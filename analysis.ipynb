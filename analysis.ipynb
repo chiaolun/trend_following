{
 "cells": [
  {
   "cell_type": "code",
   "execution_count": 1,
   "metadata": {},
   "outputs": [
    {
     "name": "stdout",
     "output_type": "stream",
     "text": [
      "time: 214 µs (started: 2022-07-05 15:15:14 +08:00)\n"
     ]
    }
   ],
   "source": [
    "%load_ext autotime"
   ]
  },
  {
   "cell_type": "code",
   "execution_count": 2,
   "metadata": {},
   "outputs": [
    {
     "name": "stdout",
     "output_type": "stream",
     "text": [
      "time: 775 ms (started: 2022-07-05 15:15:14 +08:00)\n"
     ]
    }
   ],
   "source": [
    "from pathlib import Path\n",
    "import pandas as pd\n",
    "import matplotlib.pyplot as plt\n",
    "from tqdm.auto import tqdm"
   ]
  },
  {
   "cell_type": "code",
   "execution_count": 3,
   "metadata": {},
   "outputs": [
    {
     "name": "stdout",
     "output_type": "stream",
     "text": [
      "time: 58.9 ms (started: 2022-07-05 15:15:14 +08:00)\n"
     ]
    }
   ],
   "source": [
    "from matplotlib.backends.backend_pdf import PdfPages"
   ]
  },
  {
   "cell_type": "code",
   "execution_count": 4,
   "metadata": {},
   "outputs": [
    {
     "name": "stdout",
     "output_type": "stream",
     "text": [
      "time: 186 µs (started: 2022-07-05 15:15:14 +08:00)\n"
     ]
    }
   ],
   "source": [
    "pd.set_option('display.max_rows', 200, 'display.max_columns', None)"
   ]
  },
  {
   "cell_type": "code",
   "execution_count": 5,
   "metadata": {},
   "outputs": [
    {
     "name": "stdout",
     "output_type": "stream",
     "text": [
      "time: 255 µs (started: 2022-07-05 15:15:14 +08:00)\n"
     ]
    }
   ],
   "source": [
    "all_rows = pd.option_context(\"display.max_rows\", None)"
   ]
  },
  {
   "cell_type": "code",
   "execution_count": 6,
   "metadata": {},
   "outputs": [
    {
     "name": "stdout",
     "output_type": "stream",
     "text": [
      "time: 710 µs (started: 2022-07-05 15:15:15 +08:00)\n"
     ]
    }
   ],
   "source": [
    "months = pd.Series({m: i for i, m in enumerate(\"FGHJKMNQUVXZ\")})"
   ]
  },
  {
   "cell_type": "code",
   "execution_count": 7,
   "metadata": {},
   "outputs": [
    {
     "name": "stdout",
     "output_type": "stream",
     "text": [
      "time: 7.11 s (started: 2022-07-05 15:15:15 +08:00)\n"
     ]
    }
   ],
   "source": [
    "dailies = pd.read_parquet(\"csi_data.parquet\").rename(columns={\"symbol\": \"contract\"})\n",
    "dailies.close *= dailies.mult\n",
    "dailies.volume /= dailies.mult\n",
    "dailies.open_interest /= dailies.mult"
   ]
  },
  {
   "cell_type": "code",
   "execution_count": 8,
   "metadata": {},
   "outputs": [
    {
     "name": "stdout",
     "output_type": "stream",
     "text": [
      "time: 15.2 s (started: 2022-07-05 15:15:22 +08:00)\n"
     ]
    }
   ],
   "source": [
    "prev_close = dailies.sort_values(\"date\").groupby([\"contract\", \"expiry\"]).close.shift()\n",
    "dailies[\"d_close\"] = dailies.close - prev_close"
   ]
  },
  {
   "cell_type": "code",
   "execution_count": 9,
   "metadata": {},
   "outputs": [
    {
     "name": "stdout",
     "output_type": "stream",
     "text": [
      "time: 17.2 s (started: 2022-07-05 15:15:37 +08:00)\n"
     ]
    }
   ],
   "source": [
    "dailies[\"expiry_int\"] = (\n",
    "    dailies[\"expiry\"].str.slice(0, 4).astype(int) * 12 + \n",
    "    dailies[\"expiry\"].str.slice(4, 5).map(months)\n",
    ")"
   ]
  },
  {
   "cell_type": "code",
   "execution_count": 10,
   "metadata": {},
   "outputs": [
    {
     "name": "stdout",
     "output_type": "stream",
     "text": [
      "time: 2.25 s (started: 2022-07-05 15:15:54 +08:00)\n"
     ]
    }
   ],
   "source": [
    "dailies[\"mod_month\"] = dailies.eval(\n",
    "    \"expiry_int - (date.dt.year + (expiry_int.mod(12) < date.dt.month.sub(1))) * 12\"\n",
    ")"
   ]
  },
  {
   "cell_type": "code",
   "execution_count": 11,
   "metadata": {},
   "outputs": [
    {
     "name": "stdout",
     "output_type": "stream",
     "text": [
      "time: 8.37 s (started: 2022-07-05 15:15:56 +08:00)\n"
     ]
    }
   ],
   "source": [
    "dailies[[\"expiry_int\", \"mod_month\"]] = dailies[[\"expiry_int\", \"mod_month\"]].astype(\"Int64\")"
   ]
  },
  {
   "cell_type": "code",
   "execution_count": 12,
   "metadata": {},
   "outputs": [
    {
     "name": "stdout",
     "output_type": "stream",
     "text": [
      "time: 3.91 s (started: 2022-07-05 15:16:05 +08:00)\n"
     ]
    }
   ],
   "source": [
    "dailies = dailies.query(\"mod_month.between(0, 11)\").copy()"
   ]
  },
  {
   "cell_type": "code",
   "execution_count": 13,
   "metadata": {},
   "outputs": [
    {
     "name": "stdout",
     "output_type": "stream",
     "text": [
      "time: 41.6 ms (started: 2022-07-05 15:16:09 +08:00)\n"
     ]
    }
   ],
   "source": [
    "dailies[\"mod_month\"] = pd.Categorical.from_codes(dailies[\"mod_month\"], months.index)"
   ]
  },
  {
   "cell_type": "code",
   "execution_count": 14,
   "metadata": {},
   "outputs": [
    {
     "name": "stdout",
     "output_type": "stream",
     "text": [
      "time: 23.2 ms (started: 2022-07-05 15:16:09 +08:00)\n"
     ]
    }
   ],
   "source": [
    "metadata = (\n",
    "    pd.read_csv(\"contracts.csv\")\n",
    "    .dropna(subset=[\"Exch Symbol\", \"Currency\", \"Name\", \"Point Value\", \n",
    "                    \"Symbol\", 'Futures Category'])\n",
    "    .loc[lambda df: ~df.Symbol.isin([\"TW1\", \"TW2\"])]\n",
    "    .set_index(\"Symbol\")\n",
    ")\n",
    "metadata.loc[lambda df: df[\"Futures Category\"].isin([\n",
    "    'Indexes-Asian', 'Indexes-Australian',\n",
    "    'Indexes-Canadian', 'Indexes-European',\n",
    "    'Indexes-Global', 'Indexes-Indian Stocks',\n",
    "    'Indexes-Mexican', 'Indexes-S. African', 'Indexes-S. American',\n",
    "    'Indexes-U.S.',\n",
    "]), 'Futures Category'] = \"Equity Index\"\n",
    "metadata.loc[\n",
    "    lambda df: df[\"Futures Category\"].isin([\n",
    "        'Govt Notes', 'Govt Bonds', 'Govt Rates', 'Interest Rates', 'Indexes-U.S. Bonds',\n",
    "    ]), 'Futures Category'] = \"Fixed Income\""
   ]
  },
  {
   "cell_type": "code",
   "execution_count": 15,
   "metadata": {},
   "outputs": [
    {
     "name": "stdout",
     "output_type": "stream",
     "text": [
      "time: 1.37 ms (started: 2022-07-05 15:16:09 +08:00)\n"
     ]
    }
   ],
   "source": [
    "names = metadata[\"Name\"].str.lower()\n",
    "point_values = metadata[\"Point Value\"].str.lower()"
   ]
  },
  {
   "cell_type": "code",
   "execution_count": 45,
   "metadata": {},
   "outputs": [
    {
     "name": "stdout",
     "output_type": "stream",
     "text": [
      "time: 15.2 ms (started: 2022-07-05 15:24:53 +08:00)\n"
     ]
    }
   ],
   "source": [
    "contract_mask = (\n",
    "    metadata.Currency.isin([\"USD\", \"EUR\"])\n",
    "    &\n",
    "    metadata[\"Close Field Type\"].eq(\"Settlement\")\n",
    "    &\n",
    "    ~point_values.str.contains(\"contract\")\n",
    "    &\n",
    "    ~point_values.str.contains(\"mwh\")    \n",
    "    &\n",
    "    ~names.index.isin([\"TF\", \"ER2\", \"SP2\", \"ZI\", \"ZN\", \"TU2\", \"LC1\"])\n",
    "    &\n",
    "    (\n",
    "        names.str.contains(\"combined session\")\n",
    "        |\n",
    "        ~names.str.contains(\"session\")\n",
    "    )\n",
    "    &\n",
    "    ~names.str.contains(\"divided by 10\")\n",
    ")"
   ]
  },
  {
   "cell_type": "code",
   "execution_count": 46,
   "metadata": {
    "scrolled": false
   },
   "outputs": [
    {
     "name": "stdout",
     "output_type": "stream",
     "text": [
      "time: 4.98 ms (started: 2022-07-05 15:24:53 +08:00)\n"
     ]
    }
   ],
   "source": [
    "multiplier = (\n",
    "    point_values\n",
    "    .loc[\n",
    "        lambda df: (\n",
    "            df.str.match(\"(usd|eur|\\$|\\d)\")\n",
    "            |\n",
    "            df.str.contains(\"us dollar\")\n",
    "        )\n",
    "    ]\n",
    "    .str.extract(\"(\\d+(?:[.]\\d*)?|[.]\\d+)\", expand=False).astype(float)\n",
    "    .rename(\"multiplier\")\n",
    ")\n",
    "metadata[\"multiplier\"] = multiplier"
   ]
  },
  {
   "cell_type": "code",
   "execution_count": 47,
   "metadata": {},
   "outputs": [
    {
     "name": "stdout",
     "output_type": "stream",
     "text": [
      "time: 541 ms (started: 2022-07-05 15:24:53 +08:00)\n"
     ]
    }
   ],
   "source": [
    "dailies = dailies.loc[lambda df: df.contract.map(contract_mask).fillna(False)]"
   ]
  },
  {
   "cell_type": "code",
   "execution_count": 48,
   "metadata": {},
   "outputs": [
    {
     "name": "stdout",
     "output_type": "stream",
     "text": [
      "time: 1.23 s (started: 2022-07-05 15:24:54 +08:00)\n"
     ]
    }
   ],
   "source": [
    "contract_volumes = (\n",
    "    dailies\n",
    "    .assign(decade=lambda df: df.eval(\"date.dt.year.floordiv(10).mul(10)\"))\n",
    "    .assign(adr=lambda df: df.eval(\"high - low\"))\n",
    "    .groupby([\"contract\", \"decade\"])\n",
    "    .agg({\"volume\": \"mean\", \"adr\": \"mean\"})\n",
    "    .reset_index()\n",
    ")"
   ]
  },
  {
   "cell_type": "code",
   "execution_count": 49,
   "metadata": {},
   "outputs": [
    {
     "name": "stdout",
     "output_type": "stream",
     "text": [
      "time: 209 ms (started: 2022-07-05 15:24:55 +08:00)\n"
     ]
    }
   ],
   "source": [
    "contract_volumes[\"multiplier\"] = contract_volumes.contract.map(metadata.multiplier)\n",
    "contract_volumes[\"currency\"] = contract_volumes.contract.map(metadata.Currency)\n",
    "contract_volumes[\"category\"] = contract_volumes.contract.map(metadata['Futures Category'])\n",
    "contract_volumes[\"exchange\"] = contract_volumes.contract.map(metadata.Exchange)\n",
    "contract_volumes[\"exch_symbol\"] = contract_volumes.contract.map(metadata['Exch Symbol'])\n",
    "contract_volumes[\"name\"] = contract_volumes.contract.map(metadata['Name'])\n",
    "contract_volumes[\"dollar_vol\"] = contract_volumes.eval(\"adr * multiplier * volume\")\n",
    "contract_volumes[\"cat_rank\"] = (\n",
    "    contract_volumes.groupby([\"category\", \"decade\"])\n",
    "    .dollar_vol.rank(ascending=False)\n",
    "    .fillna(0).astype(int)\n",
    ")\n",
    "contract_volumes[\"start_year\"] = contract_volumes.contract.map(\n",
    "    dailies.groupby(\"contract\").date.min().dt.year.astype(\"Int64\")\n",
    ")"
   ]
  },
  {
   "cell_type": "code",
   "execution_count": 82,
   "metadata": {
    "scrolled": false
   },
   "outputs": [
    {
     "data": {
      "text/html": [
       "<style type=\"text/css\">\n",
       "#T_66fdd_row0_col7, #T_66fdd_row1_col7, #T_66fdd_row2_col7, #T_66fdd_row3_col7, #T_66fdd_row4_col7, #T_66fdd_row5_col7, #T_66fdd_row6_col7, #T_66fdd_row7_col7, #T_66fdd_row8_col7, #T_66fdd_row9_col7, #T_66fdd_row10_col7, #T_66fdd_row11_col7, #T_66fdd_row12_col7, #T_66fdd_row13_col7, #T_66fdd_row14_col7, #T_66fdd_row15_col7, #T_66fdd_row16_col7, #T_66fdd_row17_col7, #T_66fdd_row18_col7, #T_66fdd_row19_col7, #T_66fdd_row20_col7, #T_66fdd_row21_col7, #T_66fdd_row22_col7, #T_66fdd_row23_col7, #T_66fdd_row24_col7, #T_66fdd_row25_col7, #T_66fdd_row26_col7, #T_66fdd_row27_col7, #T_66fdd_row28_col7, #T_66fdd_row29_col7, #T_66fdd_row30_col7, #T_66fdd_row31_col7, #T_66fdd_row32_col7, #T_66fdd_row33_col7, #T_66fdd_row34_col7, #T_66fdd_row35_col7, #T_66fdd_row36_col7, #T_66fdd_row37_col7, #T_66fdd_row38_col7, #T_66fdd_row39_col7, #T_66fdd_row40_col7, #T_66fdd_row41_col7, #T_66fdd_row42_col7 {\n",
       "  white-space: pre-wrap;\n",
       "}\n",
       "</style>\n",
       "<table id=\"T_66fdd\">\n",
       "  <thead>\n",
       "    <tr>\n",
       "      <th class=\"blank level0\" >&nbsp;</th>\n",
       "      <th id=\"T_66fdd_level0_col0\" class=\"col_heading level0 col0\" >dollar_vol</th>\n",
       "      <th id=\"T_66fdd_level0_col1\" class=\"col_heading level0 col1\" >currency</th>\n",
       "      <th id=\"T_66fdd_level0_col2\" class=\"col_heading level0 col2\" >contract</th>\n",
       "      <th id=\"T_66fdd_level0_col3\" class=\"col_heading level0 col3\" >exchange</th>\n",
       "      <th id=\"T_66fdd_level0_col4\" class=\"col_heading level0 col4\" >exch_symbol</th>\n",
       "      <th id=\"T_66fdd_level0_col5\" class=\"col_heading level0 col5\" >category</th>\n",
       "      <th id=\"T_66fdd_level0_col6\" class=\"col_heading level0 col6\" >cat_rank</th>\n",
       "      <th id=\"T_66fdd_level0_col7\" class=\"col_heading level0 col7\" >name</th>\n",
       "      <th id=\"T_66fdd_level0_col8\" class=\"col_heading level0 col8\" >start_year</th>\n",
       "    </tr>\n",
       "  </thead>\n",
       "  <tbody>\n",
       "    <tr>\n",
       "      <th id=\"T_66fdd_level0_row0\" class=\"row_heading level0 row0\" >0</th>\n",
       "      <td id=\"T_66fdd_row0_col0\" class=\"data row0 col0\" >3.1e+08</td>\n",
       "      <td id=\"T_66fdd_row0_col1\" class=\"data row0 col1\" >USD</td>\n",
       "      <td id=\"T_66fdd_row0_col2\" class=\"data row0 col2\" >US</td>\n",
       "      <td id=\"T_66fdd_row0_col3\" class=\"data row0 col3\" >CBT</td>\n",
       "      <td id=\"T_66fdd_row0_col4\" class=\"data row0 col4\" >US</td>\n",
       "      <td id=\"T_66fdd_row0_col5\" class=\"data row0 col5\" >Fixed Income</td>\n",
       "      <td id=\"T_66fdd_row0_col6\" class=\"data row0 col6\" >1</td>\n",
       "      <td id=\"T_66fdd_row0_col7\" class=\"data row0 col7\" >U.S. T-Bond (combined)-CBT</td>\n",
       "      <td id=\"T_66fdd_row0_col8\" class=\"data row0 col8\" >1977</td>\n",
       "    </tr>\n",
       "    <tr>\n",
       "      <th id=\"T_66fdd_level0_row1\" class=\"row_heading level0 row1\" >1</th>\n",
       "      <td id=\"T_66fdd_row1_col0\" class=\"data row1 col0\" >2.0e+08</td>\n",
       "      <td id=\"T_66fdd_row1_col1\" class=\"data row1 col1\" >USD</td>\n",
       "      <td id=\"T_66fdd_row1_col2\" class=\"data row1 col2\" >TY</td>\n",
       "      <td id=\"T_66fdd_row1_col3\" class=\"data row1 col3\" >CBT</td>\n",
       "      <td id=\"T_66fdd_row1_col4\" class=\"data row1 col4\" >TYF</td>\n",
       "      <td id=\"T_66fdd_row1_col5\" class=\"data row1 col5\" >Fixed Income</td>\n",
       "      <td id=\"T_66fdd_row1_col6\" class=\"data row1 col6\" >2</td>\n",
       "      <td id=\"T_66fdd_row1_col7\" class=\"data row1 col7\" >10-Year U.S. T-Note (combined)-CBT</td>\n",
       "      <td id=\"T_66fdd_row1_col8\" class=\"data row1 col8\" >1982</td>\n",
       "    </tr>\n",
       "    <tr>\n",
       "      <th id=\"T_66fdd_level0_row2\" class=\"row_heading level0 row2\" >2</th>\n",
       "      <td id=\"T_66fdd_row2_col0\" class=\"data row2 col0\" >1.2e+08</td>\n",
       "      <td id=\"T_66fdd_row2_col1\" class=\"data row2 col1\" >USD</td>\n",
       "      <td id=\"T_66fdd_row2_col2\" class=\"data row2 col2\" >CL2</td>\n",
       "      <td id=\"T_66fdd_row2_col3\" class=\"data row2 col3\" >NYMEX</td>\n",
       "      <td id=\"T_66fdd_row2_col4\" class=\"data row2 col4\" >CL</td>\n",
       "      <td id=\"T_66fdd_row2_col5\" class=\"data row2 col5\" >Energy</td>\n",
       "      <td id=\"T_66fdd_row2_col6\" class=\"data row2 col6\" >1</td>\n",
       "      <td id=\"T_66fdd_row2_col7\" class=\"data row2 col7\" >Crude Oil (combined)-NYMEX</td>\n",
       "      <td id=\"T_66fdd_row2_col8\" class=\"data row2 col8\" >1983</td>\n",
       "    </tr>\n",
       "    <tr>\n",
       "      <th id=\"T_66fdd_level0_row3\" class=\"row_heading level0 row3\" >3</th>\n",
       "      <td id=\"T_66fdd_row3_col0\" class=\"data row3 col0\" >1.2e+08</td>\n",
       "      <td id=\"T_66fdd_row3_col1\" class=\"data row3 col1\" >EUR</td>\n",
       "      <td id=\"T_66fdd_row3_col2\" class=\"data row3 col2\" >EBL</td>\n",
       "      <td id=\"T_66fdd_row3_col3\" class=\"data row3 col3\" >EUREX</td>\n",
       "      <td id=\"T_66fdd_row3_col4\" class=\"data row3 col4\" >FGBL</td>\n",
       "      <td id=\"T_66fdd_row3_col5\" class=\"data row3 col5\" >Fixed Income</td>\n",
       "      <td id=\"T_66fdd_row3_col6\" class=\"data row3 col6\" >3</td>\n",
       "      <td id=\"T_66fdd_row3_col7\" class=\"data row3 col7\" >Euro German Bund-EUREX</td>\n",
       "      <td id=\"T_66fdd_row3_col8\" class=\"data row3 col8\" >1990</td>\n",
       "    </tr>\n",
       "    <tr>\n",
       "      <th id=\"T_66fdd_level0_row4\" class=\"row_heading level0 row4\" >4</th>\n",
       "      <td id=\"T_66fdd_row4_col0\" class=\"data row4 col0\" >1.2e+08</td>\n",
       "      <td id=\"T_66fdd_row4_col1\" class=\"data row4 col1\" >USD</td>\n",
       "      <td id=\"T_66fdd_row4_col2\" class=\"data row4 col2\" >FV</td>\n",
       "      <td id=\"T_66fdd_row4_col3\" class=\"data row4 col3\" >CBT</td>\n",
       "      <td id=\"T_66fdd_row4_col4\" class=\"data row4 col4\" >FV</td>\n",
       "      <td id=\"T_66fdd_row4_col5\" class=\"data row4 col5\" >Fixed Income</td>\n",
       "      <td id=\"T_66fdd_row4_col6\" class=\"data row4 col6\" >4</td>\n",
       "      <td id=\"T_66fdd_row4_col7\" class=\"data row4 col7\" >5-Year U.S. T-Note (combined)-CBT</td>\n",
       "      <td id=\"T_66fdd_row4_col8\" class=\"data row4 col8\" >1988</td>\n",
       "    </tr>\n",
       "    <tr>\n",
       "      <th id=\"T_66fdd_level0_row5\" class=\"row_heading level0 row5\" >5</th>\n",
       "      <td id=\"T_66fdd_row5_col0\" class=\"data row5 col0\" >9.6e+07</td>\n",
       "      <td id=\"T_66fdd_row5_col1\" class=\"data row5 col1\" >USD</td>\n",
       "      <td id=\"T_66fdd_row5_col2\" class=\"data row5 col2\" >LCO</td>\n",
       "      <td id=\"T_66fdd_row5_col3\" class=\"data row5 col3\" >ICE-EU</td>\n",
       "      <td id=\"T_66fdd_row5_col4\" class=\"data row5 col4\" >B</td>\n",
       "      <td id=\"T_66fdd_row5_col5\" class=\"data row5 col5\" >Energy</td>\n",
       "      <td id=\"T_66fdd_row5_col6\" class=\"data row5 col6\" >2</td>\n",
       "      <td id=\"T_66fdd_row5_col7\" class=\"data row5 col7\" >Brent Crude (Combined)-(IPE)</td>\n",
       "      <td id=\"T_66fdd_row5_col8\" class=\"data row5 col8\" >1988</td>\n",
       "    </tr>\n",
       "    <tr>\n",
       "      <th id=\"T_66fdd_level0_row6\" class=\"row_heading level0 row6\" >6</th>\n",
       "      <td id=\"T_66fdd_row6_col0\" class=\"data row6 col0\" >7.2e+07</td>\n",
       "      <td id=\"T_66fdd_row6_col1\" class=\"data row6 col1\" >USD</td>\n",
       "      <td id=\"T_66fdd_row6_col2\" class=\"data row6 col2\" >GC2</td>\n",
       "      <td id=\"T_66fdd_row6_col3\" class=\"data row6 col3\" >COMEX</td>\n",
       "      <td id=\"T_66fdd_row6_col4\" class=\"data row6 col4\" >GC</td>\n",
       "      <td id=\"T_66fdd_row6_col5\" class=\"data row6 col5\" >Metals</td>\n",
       "      <td id=\"T_66fdd_row6_col6\" class=\"data row6 col6\" >1</td>\n",
       "      <td id=\"T_66fdd_row6_col7\" class=\"data row6 col7\" >Gold (combined)-COMEX</td>\n",
       "      <td id=\"T_66fdd_row6_col8\" class=\"data row6 col8\" >1976</td>\n",
       "    </tr>\n",
       "    <tr>\n",
       "      <th id=\"T_66fdd_level0_row7\" class=\"row_heading level0 row7\" >7</th>\n",
       "      <td id=\"T_66fdd_row7_col0\" class=\"data row7 col0\" >6.6e+07</td>\n",
       "      <td id=\"T_66fdd_row7_col1\" class=\"data row7 col1\" >USD</td>\n",
       "      <td id=\"T_66fdd_row7_col2\" class=\"data row7 col2\" >CU</td>\n",
       "      <td id=\"T_66fdd_row7_col3\" class=\"data row7 col3\" >CME</td>\n",
       "      <td id=\"T_66fdd_row7_col4\" class=\"data row7 col4\" >Y2</td>\n",
       "      <td id=\"T_66fdd_row7_col5\" class=\"data row7 col5\" >FOREX</td>\n",
       "      <td id=\"T_66fdd_row7_col6\" class=\"data row7 col6\" >1</td>\n",
       "      <td id=\"T_66fdd_row7_col7\" class=\"data row7 col7\" >Euro (combined)-CME</td>\n",
       "      <td id=\"T_66fdd_row7_col8\" class=\"data row7 col8\" >1976</td>\n",
       "    </tr>\n",
       "    <tr>\n",
       "      <th id=\"T_66fdd_level0_row8\" class=\"row_heading level0 row8\" >8</th>\n",
       "      <td id=\"T_66fdd_row8_col0\" class=\"data row8 col0\" >4.5e+07</td>\n",
       "      <td id=\"T_66fdd_row8_col1\" class=\"data row8 col1\" >USD</td>\n",
       "      <td id=\"T_66fdd_row8_col2\" class=\"data row8 col2\" >S2</td>\n",
       "      <td id=\"T_66fdd_row8_col3\" class=\"data row8 col3\" >CBT</td>\n",
       "      <td id=\"T_66fdd_row8_col4\" class=\"data row8 col4\" >S</td>\n",
       "      <td id=\"T_66fdd_row8_col5\" class=\"data row8 col5\" >Grains & Oilseeds</td>\n",
       "      <td id=\"T_66fdd_row8_col6\" class=\"data row8 col6\" >1</td>\n",
       "      <td id=\"T_66fdd_row8_col7\" class=\"data row8 col7\" >Soybeans (combined)-CBT</td>\n",
       "      <td id=\"T_66fdd_row8_col8\" class=\"data row8 col8\" >1976</td>\n",
       "    </tr>\n",
       "    <tr>\n",
       "      <th id=\"T_66fdd_level0_row9\" class=\"row_heading level0 row9\" >9</th>\n",
       "      <td id=\"T_66fdd_row9_col0\" class=\"data row9 col0\" >4.4e+07</td>\n",
       "      <td id=\"T_66fdd_row9_col1\" class=\"data row9 col1\" >USD</td>\n",
       "      <td id=\"T_66fdd_row9_col2\" class=\"data row9 col2\" >C2</td>\n",
       "      <td id=\"T_66fdd_row9_col3\" class=\"data row9 col3\" >CBT</td>\n",
       "      <td id=\"T_66fdd_row9_col4\" class=\"data row9 col4\" >C</td>\n",
       "      <td id=\"T_66fdd_row9_col5\" class=\"data row9 col5\" >Grains & Oilseeds</td>\n",
       "      <td id=\"T_66fdd_row9_col6\" class=\"data row9 col6\" >2</td>\n",
       "      <td id=\"T_66fdd_row9_col7\" class=\"data row9 col7\" >Corn (combined)-CBT</td>\n",
       "      <td id=\"T_66fdd_row9_col8\" class=\"data row9 col8\" >1976</td>\n",
       "    </tr>\n",
       "    <tr>\n",
       "      <th id=\"T_66fdd_level0_row10\" class=\"row_heading level0 row10\" >10</th>\n",
       "      <td id=\"T_66fdd_row10_col0\" class=\"data row10 col0\" >3.0e+07</td>\n",
       "      <td id=\"T_66fdd_row10_col1\" class=\"data row10 col1\" >USD</td>\n",
       "      <td id=\"T_66fdd_row10_col2\" class=\"data row10 col2\" >SI2</td>\n",
       "      <td id=\"T_66fdd_row10_col3\" class=\"data row10 col3\" >COMEX</td>\n",
       "      <td id=\"T_66fdd_row10_col4\" class=\"data row10 col4\" >SI</td>\n",
       "      <td id=\"T_66fdd_row10_col5\" class=\"data row10 col5\" >Metals</td>\n",
       "      <td id=\"T_66fdd_row10_col6\" class=\"data row10 col6\" >2</td>\n",
       "      <td id=\"T_66fdd_row10_col7\" class=\"data row10 col7\" >Silver (combined)-COMEX</td>\n",
       "      <td id=\"T_66fdd_row10_col8\" class=\"data row10 col8\" >1976</td>\n",
       "    </tr>\n",
       "    <tr>\n",
       "      <th id=\"T_66fdd_level0_row11\" class=\"row_heading level0 row11\" >11</th>\n",
       "      <td id=\"T_66fdd_row11_col0\" class=\"data row11 col0\" >2.8e+07</td>\n",
       "      <td id=\"T_66fdd_row11_col1\" class=\"data row11 col1\" >USD</td>\n",
       "      <td id=\"T_66fdd_row11_col2\" class=\"data row11 col2\" >NG2</td>\n",
       "      <td id=\"T_66fdd_row11_col3\" class=\"data row11 col3\" >NYMEX</td>\n",
       "      <td id=\"T_66fdd_row11_col4\" class=\"data row11 col4\" >NG</td>\n",
       "      <td id=\"T_66fdd_row11_col5\" class=\"data row11 col5\" >Energy</td>\n",
       "      <td id=\"T_66fdd_row11_col6\" class=\"data row11 col6\" >3</td>\n",
       "      <td id=\"T_66fdd_row11_col7\" class=\"data row11 col7\" >Henry Hub Natural Gas (combined)-NYMEX</td>\n",
       "      <td id=\"T_66fdd_row11_col8\" class=\"data row11 col8\" >1990</td>\n",
       "    </tr>\n",
       "    <tr>\n",
       "      <th id=\"T_66fdd_level0_row12\" class=\"row_heading level0 row12\" >12</th>\n",
       "      <td id=\"T_66fdd_row12_col0\" class=\"data row12 col0\" >2.7e+07</td>\n",
       "      <td id=\"T_66fdd_row12_col1\" class=\"data row12 col1\" >USD</td>\n",
       "      <td id=\"T_66fdd_row12_col2\" class=\"data row12 col2\" >LGO</td>\n",
       "      <td id=\"T_66fdd_row12_col3\" class=\"data row12 col3\" >ICE-EU</td>\n",
       "      <td id=\"T_66fdd_row12_col4\" class=\"data row12 col4\" >G</td>\n",
       "      <td id=\"T_66fdd_row12_col5\" class=\"data row12 col5\" >Energy</td>\n",
       "      <td id=\"T_66fdd_row12_col6\" class=\"data row12 col6\" >4</td>\n",
       "      <td id=\"T_66fdd_row12_col7\" class=\"data row12 col7\" >Low Sulphur Gasoil (combined)</td>\n",
       "      <td id=\"T_66fdd_row12_col8\" class=\"data row12 col8\" >1981</td>\n",
       "    </tr>\n",
       "    <tr>\n",
       "      <th id=\"T_66fdd_level0_row13\" class=\"row_heading level0 row13\" >13</th>\n",
       "      <td id=\"T_66fdd_row13_col0\" class=\"data row13 col0\" >2.5e+07</td>\n",
       "      <td id=\"T_66fdd_row13_col1\" class=\"data row13 col1\" >USD</td>\n",
       "      <td id=\"T_66fdd_row13_col2\" class=\"data row13 col2\" >JY</td>\n",
       "      <td id=\"T_66fdd_row13_col3\" class=\"data row13 col3\" >CME</td>\n",
       "      <td id=\"T_66fdd_row13_col4\" class=\"data row13 col4\" >JY</td>\n",
       "      <td id=\"T_66fdd_row13_col5\" class=\"data row13 col5\" >FOREX</td>\n",
       "      <td id=\"T_66fdd_row13_col6\" class=\"data row13 col6\" >2</td>\n",
       "      <td id=\"T_66fdd_row13_col7\" class=\"data row13 col7\" >Japanese Yen (combined)-CME</td>\n",
       "      <td id=\"T_66fdd_row13_col8\" class=\"data row13 col8\" >1976</td>\n",
       "    </tr>\n",
       "    <tr>\n",
       "      <th id=\"T_66fdd_level0_row14\" class=\"row_heading level0 row14\" >14</th>\n",
       "      <td id=\"T_66fdd_row14_col0\" class=\"data row14 col0\" >2.4e+07</td>\n",
       "      <td id=\"T_66fdd_row14_col1\" class=\"data row14 col1\" >EUR</td>\n",
       "      <td id=\"T_66fdd_row14_col2\" class=\"data row14 col2\" >EBM</td>\n",
       "      <td id=\"T_66fdd_row14_col3\" class=\"data row14 col3\" >EUREX</td>\n",
       "      <td id=\"T_66fdd_row14_col4\" class=\"data row14 col4\" >FGBM</td>\n",
       "      <td id=\"T_66fdd_row14_col5\" class=\"data row14 col5\" >Fixed Income</td>\n",
       "      <td id=\"T_66fdd_row14_col6\" class=\"data row14 col6\" >5</td>\n",
       "      <td id=\"T_66fdd_row14_col7\" class=\"data row14 col7\" >Euro German Bobl-EUREX</td>\n",
       "      <td id=\"T_66fdd_row14_col8\" class=\"data row14 col8\" >1991</td>\n",
       "    </tr>\n",
       "    <tr>\n",
       "      <th id=\"T_66fdd_level0_row15\" class=\"row_heading level0 row15\" >15</th>\n",
       "      <td id=\"T_66fdd_row15_col0\" class=\"data row15 col0\" >2.3e+07</td>\n",
       "      <td id=\"T_66fdd_row15_col1\" class=\"data row15 col1\" >USD</td>\n",
       "      <td id=\"T_66fdd_row15_col2\" class=\"data row15 col2\" >TU</td>\n",
       "      <td id=\"T_66fdd_row15_col3\" class=\"data row15 col3\" >CBT</td>\n",
       "      <td id=\"T_66fdd_row15_col4\" class=\"data row15 col4\" >TU</td>\n",
       "      <td id=\"T_66fdd_row15_col5\" class=\"data row15 col5\" >Fixed Income</td>\n",
       "      <td id=\"T_66fdd_row15_col6\" class=\"data row15 col6\" >6</td>\n",
       "      <td id=\"T_66fdd_row15_col7\" class=\"data row15 col7\" >2-Year U.S. T-Note (combined)-CBT</td>\n",
       "      <td id=\"T_66fdd_row15_col8\" class=\"data row15 col8\" >1990</td>\n",
       "    </tr>\n",
       "    <tr>\n",
       "      <th id=\"T_66fdd_level0_row16\" class=\"row_heading level0 row16\" >16</th>\n",
       "      <td id=\"T_66fdd_row16_col0\" class=\"data row16 col0\" >2.2e+07</td>\n",
       "      <td id=\"T_66fdd_row16_col1\" class=\"data row16 col1\" >USD</td>\n",
       "      <td id=\"T_66fdd_row16_col2\" class=\"data row16 col2\" >RB2</td>\n",
       "      <td id=\"T_66fdd_row16_col3\" class=\"data row16 col3\" >NYMEX</td>\n",
       "      <td id=\"T_66fdd_row16_col4\" class=\"data row16 col4\" >RB</td>\n",
       "      <td id=\"T_66fdd_row16_col5\" class=\"data row16 col5\" >Energy</td>\n",
       "      <td id=\"T_66fdd_row16_col6\" class=\"data row16 col6\" >5</td>\n",
       "      <td id=\"T_66fdd_row16_col7\" class=\"data row16 col7\" >Gasoline-Reformulated Blendstock(Combined)-NYMEX</td>\n",
       "      <td id=\"T_66fdd_row16_col8\" class=\"data row16 col8\" >1984</td>\n",
       "    </tr>\n",
       "    <tr>\n",
       "      <th id=\"T_66fdd_level0_row17\" class=\"row_heading level0 row17\" >17</th>\n",
       "      <td id=\"T_66fdd_row17_col0\" class=\"data row17 col0\" >2.1e+07</td>\n",
       "      <td id=\"T_66fdd_row17_col1\" class=\"data row17 col1\" >USD</td>\n",
       "      <td id=\"T_66fdd_row17_col2\" class=\"data row17 col2\" >HO2</td>\n",
       "      <td id=\"T_66fdd_row17_col3\" class=\"data row17 col3\" >NYMEX</td>\n",
       "      <td id=\"T_66fdd_row17_col4\" class=\"data row17 col4\" >HO</td>\n",
       "      <td id=\"T_66fdd_row17_col5\" class=\"data row17 col5\" >Energy</td>\n",
       "      <td id=\"T_66fdd_row17_col6\" class=\"data row17 col6\" >6</td>\n",
       "      <td id=\"T_66fdd_row17_col7\" class=\"data row17 col7\" >NY Harbor ULSD (combined)-NYMEX</td>\n",
       "      <td id=\"T_66fdd_row17_col8\" class=\"data row17 col8\" >1978</td>\n",
       "    </tr>\n",
       "    <tr>\n",
       "      <th id=\"T_66fdd_level0_row18\" class=\"row_heading level0 row18\" >18</th>\n",
       "      <td id=\"T_66fdd_row18_col0\" class=\"data row18 col0\" >2.1e+07</td>\n",
       "      <td id=\"T_66fdd_row18_col1\" class=\"data row18 col1\" >USD</td>\n",
       "      <td id=\"T_66fdd_row18_col2\" class=\"data row18 col2\" >W2</td>\n",
       "      <td id=\"T_66fdd_row18_col3\" class=\"data row18 col3\" >CBT</td>\n",
       "      <td id=\"T_66fdd_row18_col4\" class=\"data row18 col4\" >W</td>\n",
       "      <td id=\"T_66fdd_row18_col5\" class=\"data row18 col5\" >Grains & Oilseeds</td>\n",
       "      <td id=\"T_66fdd_row18_col6\" class=\"data row18 col6\" >3</td>\n",
       "      <td id=\"T_66fdd_row18_col7\" class=\"data row18 col7\" >Wheat (combined)-CBT</td>\n",
       "      <td id=\"T_66fdd_row18_col8\" class=\"data row18 col8\" >1976</td>\n",
       "    </tr>\n",
       "    <tr>\n",
       "      <th id=\"T_66fdd_level0_row19\" class=\"row_heading level0 row19\" >19</th>\n",
       "      <td id=\"T_66fdd_row19_col0\" class=\"data row19 col0\" >1.9e+07</td>\n",
       "      <td id=\"T_66fdd_row19_col1\" class=\"data row19 col1\" >USD</td>\n",
       "      <td id=\"T_66fdd_row19_col2\" class=\"data row19 col2\" >HG2</td>\n",
       "      <td id=\"T_66fdd_row19_col3\" class=\"data row19 col3\" >COMEX</td>\n",
       "      <td id=\"T_66fdd_row19_col4\" class=\"data row19 col4\" >HG</td>\n",
       "      <td id=\"T_66fdd_row19_col5\" class=\"data row19 col5\" >Metals</td>\n",
       "      <td id=\"T_66fdd_row19_col6\" class=\"data row19 col6\" >3</td>\n",
       "      <td id=\"T_66fdd_row19_col7\" class=\"data row19 col7\" >Copper (combined)-COMEX</td>\n",
       "      <td id=\"T_66fdd_row19_col8\" class=\"data row19 col8\" >1976</td>\n",
       "    </tr>\n",
       "    <tr>\n",
       "      <th id=\"T_66fdd_level0_row20\" class=\"row_heading level0 row20\" >20</th>\n",
       "      <td id=\"T_66fdd_row20_col0\" class=\"data row20 col0\" >1.8e+07</td>\n",
       "      <td id=\"T_66fdd_row20_col1\" class=\"data row20 col1\" >USD</td>\n",
       "      <td id=\"T_66fdd_row20_col2\" class=\"data row20 col2\" >ED</td>\n",
       "      <td id=\"T_66fdd_row20_col3\" class=\"data row20 col3\" >CME</td>\n",
       "      <td id=\"T_66fdd_row20_col4\" class=\"data row20 col4\" >ED</td>\n",
       "      <td id=\"T_66fdd_row20_col5\" class=\"data row20 col5\" >Fixed Income</td>\n",
       "      <td id=\"T_66fdd_row20_col6\" class=\"data row20 col6\" >7</td>\n",
       "      <td id=\"T_66fdd_row20_col7\" class=\"data row20 col7\" >Eurodollar (combined)-CME</td>\n",
       "      <td id=\"T_66fdd_row20_col8\" class=\"data row20 col8\" >1981</td>\n",
       "    </tr>\n",
       "    <tr>\n",
       "      <th id=\"T_66fdd_level0_row21\" class=\"row_heading level0 row21\" >21</th>\n",
       "      <td id=\"T_66fdd_row21_col0\" class=\"data row21 col0\" >1.6e+07</td>\n",
       "      <td id=\"T_66fdd_row21_col1\" class=\"data row21 col1\" >USD</td>\n",
       "      <td id=\"T_66fdd_row21_col2\" class=\"data row21 col2\" >SB2</td>\n",
       "      <td id=\"T_66fdd_row21_col3\" class=\"data row21 col3\" >ICE-US</td>\n",
       "      <td id=\"T_66fdd_row21_col4\" class=\"data row21 col4\" >SB</td>\n",
       "      <td id=\"T_66fdd_row21_col5\" class=\"data row21 col5\" >Food & Fiber</td>\n",
       "      <td id=\"T_66fdd_row21_col6\" class=\"data row21 col6\" >1</td>\n",
       "      <td id=\"T_66fdd_row21_col7\" class=\"data row21 col7\" >Sugar #11 (combined)</td>\n",
       "      <td id=\"T_66fdd_row21_col8\" class=\"data row21 col8\" >1976</td>\n",
       "    </tr>\n",
       "    <tr>\n",
       "      <th id=\"T_66fdd_level0_row22\" class=\"row_heading level0 row22\" >22</th>\n",
       "      <td id=\"T_66fdd_row22_col0\" class=\"data row22 col0\" >1.3e+07</td>\n",
       "      <td id=\"T_66fdd_row22_col1\" class=\"data row22 col1\" >USD</td>\n",
       "      <td id=\"T_66fdd_row22_col2\" class=\"data row22 col2\" >BP</td>\n",
       "      <td id=\"T_66fdd_row22_col3\" class=\"data row22 col3\" >CME</td>\n",
       "      <td id=\"T_66fdd_row22_col4\" class=\"data row22 col4\" >NB</td>\n",
       "      <td id=\"T_66fdd_row22_col5\" class=\"data row22 col5\" >FOREX</td>\n",
       "      <td id=\"T_66fdd_row22_col6\" class=\"data row22 col6\" >3</td>\n",
       "      <td id=\"T_66fdd_row22_col7\" class=\"data row22 col7\" >British Pound (combined)-CME</td>\n",
       "      <td id=\"T_66fdd_row22_col8\" class=\"data row22 col8\" >1976</td>\n",
       "    </tr>\n",
       "    <tr>\n",
       "      <th id=\"T_66fdd_level0_row23\" class=\"row_heading level0 row23\" >23</th>\n",
       "      <td id=\"T_66fdd_row23_col0\" class=\"data row23 col0\" >1.1e+07</td>\n",
       "      <td id=\"T_66fdd_row23_col1\" class=\"data row23 col1\" >USD</td>\n",
       "      <td id=\"T_66fdd_row23_col2\" class=\"data row23 col2\" >CD</td>\n",
       "      <td id=\"T_66fdd_row23_col3\" class=\"data row23 col3\" >CME</td>\n",
       "      <td id=\"T_66fdd_row23_col4\" class=\"data row23 col4\" >CD</td>\n",
       "      <td id=\"T_66fdd_row23_col5\" class=\"data row23 col5\" >FOREX</td>\n",
       "      <td id=\"T_66fdd_row23_col6\" class=\"data row23 col6\" >4</td>\n",
       "      <td id=\"T_66fdd_row23_col7\" class=\"data row23 col7\" >Canadian Dollar (combined)-CME</td>\n",
       "      <td id=\"T_66fdd_row23_col8\" class=\"data row23 col8\" >1976</td>\n",
       "    </tr>\n",
       "    <tr>\n",
       "      <th id=\"T_66fdd_level0_row24\" class=\"row_heading level0 row24\" >24</th>\n",
       "      <td id=\"T_66fdd_row24_col0\" class=\"data row24 col0\" >1.0e+07</td>\n",
       "      <td id=\"T_66fdd_row24_col1\" class=\"data row24 col1\" >USD</td>\n",
       "      <td id=\"T_66fdd_row24_col2\" class=\"data row24 col2\" >SM2</td>\n",
       "      <td id=\"T_66fdd_row24_col3\" class=\"data row24 col3\" >CBT</td>\n",
       "      <td id=\"T_66fdd_row24_col4\" class=\"data row24 col4\" >SM</td>\n",
       "      <td id=\"T_66fdd_row24_col5\" class=\"data row24 col5\" >Grains & Oilseeds</td>\n",
       "      <td id=\"T_66fdd_row24_col6\" class=\"data row24 col6\" >4</td>\n",
       "      <td id=\"T_66fdd_row24_col7\" class=\"data row24 col7\" >Soybean Meal (combined)-CBT</td>\n",
       "      <td id=\"T_66fdd_row24_col8\" class=\"data row24 col8\" >1976</td>\n",
       "    </tr>\n",
       "    <tr>\n",
       "      <th id=\"T_66fdd_level0_row25\" class=\"row_heading level0 row25\" >25</th>\n",
       "      <td id=\"T_66fdd_row25_col0\" class=\"data row25 col0\" >1.0e+07</td>\n",
       "      <td id=\"T_66fdd_row25_col1\" class=\"data row25 col1\" >USD</td>\n",
       "      <td id=\"T_66fdd_row25_col2\" class=\"data row25 col2\" >KC2</td>\n",
       "      <td id=\"T_66fdd_row25_col3\" class=\"data row25 col3\" >ICE-US</td>\n",
       "      <td id=\"T_66fdd_row25_col4\" class=\"data row25 col4\" >KC</td>\n",
       "      <td id=\"T_66fdd_row25_col5\" class=\"data row25 col5\" >Food & Fiber</td>\n",
       "      <td id=\"T_66fdd_row25_col6\" class=\"data row25 col6\" >2</td>\n",
       "      <td id=\"T_66fdd_row25_col7\" class=\"data row25 col7\" >Coffee (combined)</td>\n",
       "      <td id=\"T_66fdd_row25_col8\" class=\"data row25 col8\" >1976</td>\n",
       "    </tr>\n",
       "    <tr>\n",
       "      <th id=\"T_66fdd_level0_row26\" class=\"row_heading level0 row26\" >26</th>\n",
       "      <td id=\"T_66fdd_row26_col0\" class=\"data row26 col0\" >7.7e+06</td>\n",
       "      <td id=\"T_66fdd_row26_col1\" class=\"data row26 col1\" >USD</td>\n",
       "      <td id=\"T_66fdd_row26_col2\" class=\"data row26 col2\" >BO2</td>\n",
       "      <td id=\"T_66fdd_row26_col3\" class=\"data row26 col3\" >CBT</td>\n",
       "      <td id=\"T_66fdd_row26_col4\" class=\"data row26 col4\" >BO</td>\n",
       "      <td id=\"T_66fdd_row26_col5\" class=\"data row26 col5\" >Grains & Oilseeds</td>\n",
       "      <td id=\"T_66fdd_row26_col6\" class=\"data row26 col6\" >5</td>\n",
       "      <td id=\"T_66fdd_row26_col7\" class=\"data row26 col7\" >Soybean Oil (combined)-CBT</td>\n",
       "      <td id=\"T_66fdd_row26_col8\" class=\"data row26 col8\" >1976</td>\n",
       "    </tr>\n",
       "    <tr>\n",
       "      <th id=\"T_66fdd_level0_row27\" class=\"row_heading level0 row27\" >27</th>\n",
       "      <td id=\"T_66fdd_row27_col0\" class=\"data row27 col0\" >6.2e+06</td>\n",
       "      <td id=\"T_66fdd_row27_col1\" class=\"data row27 col1\" >USD</td>\n",
       "      <td id=\"T_66fdd_row27_col2\" class=\"data row27 col2\" >KW2</td>\n",
       "      <td id=\"T_66fdd_row27_col3\" class=\"data row27 col3\" >CBT</td>\n",
       "      <td id=\"T_66fdd_row27_col4\" class=\"data row27 col4\" >KE</td>\n",
       "      <td id=\"T_66fdd_row27_col5\" class=\"data row27 col5\" >Grains & Oilseeds</td>\n",
       "      <td id=\"T_66fdd_row27_col6\" class=\"data row27 col6\" >6</td>\n",
       "      <td id=\"T_66fdd_row27_col7\" class=\"data row27 col7\" >Kansas City HRW Wheat (combined)-KCBT</td>\n",
       "      <td id=\"T_66fdd_row27_col8\" class=\"data row27 col8\" >1976</td>\n",
       "    </tr>\n",
       "    <tr>\n",
       "      <th id=\"T_66fdd_level0_row28\" class=\"row_heading level0 row28\" >28</th>\n",
       "      <td id=\"T_66fdd_row28_col0\" class=\"data row28 col0\" >5.8e+06</td>\n",
       "      <td id=\"T_66fdd_row28_col1\" class=\"data row28 col1\" >USD</td>\n",
       "      <td id=\"T_66fdd_row28_col2\" class=\"data row28 col2\" >CT2</td>\n",
       "      <td id=\"T_66fdd_row28_col3\" class=\"data row28 col3\" >ICE-US</td>\n",
       "      <td id=\"T_66fdd_row28_col4\" class=\"data row28 col4\" >CT</td>\n",
       "      <td id=\"T_66fdd_row28_col5\" class=\"data row28 col5\" >Food & Fiber</td>\n",
       "      <td id=\"T_66fdd_row28_col6\" class=\"data row28 col6\" >3</td>\n",
       "      <td id=\"T_66fdd_row28_col7\" class=\"data row28 col7\" >Cotton #2 (combined)</td>\n",
       "      <td id=\"T_66fdd_row28_col8\" class=\"data row28 col8\" >1976</td>\n",
       "    </tr>\n",
       "    <tr>\n",
       "      <th id=\"T_66fdd_level0_row29\" class=\"row_heading level0 row29\" >29</th>\n",
       "      <td id=\"T_66fdd_row29_col0\" class=\"data row29 col0\" >5.3e+06</td>\n",
       "      <td id=\"T_66fdd_row29_col1\" class=\"data row29 col1\" >USD</td>\n",
       "      <td id=\"T_66fdd_row29_col2\" class=\"data row29 col2\" >LC</td>\n",
       "      <td id=\"T_66fdd_row29_col3\" class=\"data row29 col3\" >CME</td>\n",
       "      <td id=\"T_66fdd_row29_col4\" class=\"data row29 col4\" >L2</td>\n",
       "      <td id=\"T_66fdd_row29_col5\" class=\"data row29 col5\" >Livestock & Meats</td>\n",
       "      <td id=\"T_66fdd_row29_col6\" class=\"data row29 col6\" >1</td>\n",
       "      <td id=\"T_66fdd_row29_col7\" class=\"data row29 col7\" >Live Cattle (combined)-CME</td>\n",
       "      <td id=\"T_66fdd_row29_col8\" class=\"data row29 col8\" >1976</td>\n",
       "    </tr>\n",
       "    <tr>\n",
       "      <th id=\"T_66fdd_level0_row30\" class=\"row_heading level0 row30\" >30</th>\n",
       "      <td id=\"T_66fdd_row30_col0\" class=\"data row30 col0\" >3.4e+06</td>\n",
       "      <td id=\"T_66fdd_row30_col1\" class=\"data row30 col1\" >USD</td>\n",
       "      <td id=\"T_66fdd_row30_col2\" class=\"data row30 col2\" >LH</td>\n",
       "      <td id=\"T_66fdd_row30_col3\" class=\"data row30 col3\" >CME</td>\n",
       "      <td id=\"T_66fdd_row30_col4\" class=\"data row30 col4\" >LH</td>\n",
       "      <td id=\"T_66fdd_row30_col5\" class=\"data row30 col5\" >Livestock & Meats</td>\n",
       "      <td id=\"T_66fdd_row30_col6\" class=\"data row30 col6\" >2</td>\n",
       "      <td id=\"T_66fdd_row30_col7\" class=\"data row30 col7\" >Lean Hogs (combined)-CME</td>\n",
       "      <td id=\"T_66fdd_row30_col8\" class=\"data row30 col8\" >1976</td>\n",
       "    </tr>\n",
       "    <tr>\n",
       "      <th id=\"T_66fdd_level0_row31\" class=\"row_heading level0 row31\" >31</th>\n",
       "      <td id=\"T_66fdd_row31_col0\" class=\"data row31 col0\" >3.4e+06</td>\n",
       "      <td id=\"T_66fdd_row31_col1\" class=\"data row31 col1\" >USD</td>\n",
       "      <td id=\"T_66fdd_row31_col2\" class=\"data row31 col2\" >CC2</td>\n",
       "      <td id=\"T_66fdd_row31_col3\" class=\"data row31 col3\" >ICE-US</td>\n",
       "      <td id=\"T_66fdd_row31_col4\" class=\"data row31 col4\" >CC</td>\n",
       "      <td id=\"T_66fdd_row31_col5\" class=\"data row31 col5\" >Food & Fiber</td>\n",
       "      <td id=\"T_66fdd_row31_col6\" class=\"data row31 col6\" >4</td>\n",
       "      <td id=\"T_66fdd_row31_col7\" class=\"data row31 col7\" >Cocoa (combined)</td>\n",
       "      <td id=\"T_66fdd_row31_col8\" class=\"data row31 col8\" >1976</td>\n",
       "    </tr>\n",
       "    <tr>\n",
       "      <th id=\"T_66fdd_level0_row32\" class=\"row_heading level0 row32\" >32</th>\n",
       "      <td id=\"T_66fdd_row32_col0\" class=\"data row32 col0\" >2.7e+06</td>\n",
       "      <td id=\"T_66fdd_row32_col1\" class=\"data row32 col1\" >USD</td>\n",
       "      <td id=\"T_66fdd_row32_col2\" class=\"data row32 col2\" >DX2</td>\n",
       "      <td id=\"T_66fdd_row32_col3\" class=\"data row32 col3\" >ICE-US</td>\n",
       "      <td id=\"T_66fdd_row32_col4\" class=\"data row32 col4\" >DX</td>\n",
       "      <td id=\"T_66fdd_row32_col5\" class=\"data row32 col5\" >Index</td>\n",
       "      <td id=\"T_66fdd_row32_col6\" class=\"data row32 col6\" >1</td>\n",
       "      <td id=\"T_66fdd_row32_col7\" class=\"data row32 col7\" >U.S. Dollar Index (combined)-FINEX</td>\n",
       "      <td id=\"T_66fdd_row32_col8\" class=\"data row32 col8\" >1985</td>\n",
       "    </tr>\n",
       "    <tr>\n",
       "      <th id=\"T_66fdd_level0_row33\" class=\"row_heading level0 row33\" >33</th>\n",
       "      <td id=\"T_66fdd_row33_col0\" class=\"data row33 col0\" >2.4e+06</td>\n",
       "      <td id=\"T_66fdd_row33_col1\" class=\"data row33 col1\" >USD</td>\n",
       "      <td id=\"T_66fdd_row33_col2\" class=\"data row33 col2\" >PL2</td>\n",
       "      <td id=\"T_66fdd_row33_col3\" class=\"data row33 col3\" >NYMEX</td>\n",
       "      <td id=\"T_66fdd_row33_col4\" class=\"data row33 col4\" >PL</td>\n",
       "      <td id=\"T_66fdd_row33_col5\" class=\"data row33 col5\" >Metals</td>\n",
       "      <td id=\"T_66fdd_row33_col6\" class=\"data row33 col6\" >4</td>\n",
       "      <td id=\"T_66fdd_row33_col7\" class=\"data row33 col7\" >Platinum (combined)-NYMEX</td>\n",
       "      <td id=\"T_66fdd_row33_col8\" class=\"data row33 col8\" >1976</td>\n",
       "    </tr>\n",
       "    <tr>\n",
       "      <th id=\"T_66fdd_level0_row34\" class=\"row_heading level0 row34\" >34</th>\n",
       "      <td id=\"T_66fdd_row34_col0\" class=\"data row34 col0\" >1.9e+06</td>\n",
       "      <td id=\"T_66fdd_row34_col1\" class=\"data row34 col1\" >USD</td>\n",
       "      <td id=\"T_66fdd_row34_col2\" class=\"data row34 col2\" >MP</td>\n",
       "      <td id=\"T_66fdd_row34_col3\" class=\"data row34 col3\" >CME</td>\n",
       "      <td id=\"T_66fdd_row34_col4\" class=\"data row34 col4\" >MP</td>\n",
       "      <td id=\"T_66fdd_row34_col5\" class=\"data row34 col5\" >FOREX</td>\n",
       "      <td id=\"T_66fdd_row34_col6\" class=\"data row34 col6\" >5</td>\n",
       "      <td id=\"T_66fdd_row34_col7\" class=\"data row34 col7\" >Mexican Peso (combined)-CME</td>\n",
       "      <td id=\"T_66fdd_row34_col8\" class=\"data row34 col8\" >1995</td>\n",
       "    </tr>\n",
       "    <tr>\n",
       "      <th id=\"T_66fdd_level0_row35\" class=\"row_heading level0 row35\" >35</th>\n",
       "      <td id=\"T_66fdd_row35_col0\" class=\"data row35 col0\" >1.3e+06</td>\n",
       "      <td id=\"T_66fdd_row35_col1\" class=\"data row35 col1\" >USD</td>\n",
       "      <td id=\"T_66fdd_row35_col2\" class=\"data row35 col2\" >PA2</td>\n",
       "      <td id=\"T_66fdd_row35_col3\" class=\"data row35 col3\" >NYMEX</td>\n",
       "      <td id=\"T_66fdd_row35_col4\" class=\"data row35 col4\" >PA</td>\n",
       "      <td id=\"T_66fdd_row35_col5\" class=\"data row35 col5\" >Metals</td>\n",
       "      <td id=\"T_66fdd_row35_col6\" class=\"data row35 col6\" >5</td>\n",
       "      <td id=\"T_66fdd_row35_col7\" class=\"data row35 col7\" >Palladium (combined)-NYMEX</td>\n",
       "      <td id=\"T_66fdd_row35_col8\" class=\"data row35 col8\" >1977</td>\n",
       "    </tr>\n",
       "    <tr>\n",
       "      <th id=\"T_66fdd_level0_row36\" class=\"row_heading level0 row36\" >36</th>\n",
       "      <td id=\"T_66fdd_row36_col0\" class=\"data row36 col0\" >1.3e+06</td>\n",
       "      <td id=\"T_66fdd_row36_col1\" class=\"data row36 col1\" >USD</td>\n",
       "      <td id=\"T_66fdd_row36_col2\" class=\"data row36 col2\" >EX</td>\n",
       "      <td id=\"T_66fdd_row36_col3\" class=\"data row36 col3\" >CME</td>\n",
       "      <td id=\"T_66fdd_row36_col4\" class=\"data row36 col4\" >E7</td>\n",
       "      <td id=\"T_66fdd_row36_col5\" class=\"data row36 col5\" >FOREX</td>\n",
       "      <td id=\"T_66fdd_row36_col6\" class=\"data row36 col6\" >6</td>\n",
       "      <td id=\"T_66fdd_row36_col7\" class=\"data row36 col7\" >e-mini Euro-CME</td>\n",
       "      <td id=\"T_66fdd_row36_col8\" class=\"data row36 col8\" >1999</td>\n",
       "    </tr>\n",
       "    <tr>\n",
       "      <th id=\"T_66fdd_level0_row37\" class=\"row_heading level0 row37\" >37</th>\n",
       "      <td id=\"T_66fdd_row37_col0\" class=\"data row37 col0\" >1.2e+06</td>\n",
       "      <td id=\"T_66fdd_row37_col1\" class=\"data row37 col1\" >USD</td>\n",
       "      <td id=\"T_66fdd_row37_col2\" class=\"data row37 col2\" >MW2</td>\n",
       "      <td id=\"T_66fdd_row37_col3\" class=\"data row37 col3\" >MGE</td>\n",
       "      <td id=\"T_66fdd_row37_col4\" class=\"data row37 col4\" >MWE</td>\n",
       "      <td id=\"T_66fdd_row37_col5\" class=\"data row37 col5\" >Grains & Oilseeds</td>\n",
       "      <td id=\"T_66fdd_row37_col6\" class=\"data row37 col6\" >7</td>\n",
       "      <td id=\"T_66fdd_row37_col7\" class=\"data row37 col7\" >Spring Wheat (combined)-MGE</td>\n",
       "      <td id=\"T_66fdd_row37_col8\" class=\"data row37 col8\" >1976</td>\n",
       "    </tr>\n",
       "    <tr>\n",
       "      <th id=\"T_66fdd_level0_row38\" class=\"row_heading level0 row38\" >38</th>\n",
       "      <td id=\"T_66fdd_row38_col0\" class=\"data row38 col0\" >1.1e+06</td>\n",
       "      <td id=\"T_66fdd_row38_col1\" class=\"data row38 col1\" >USD</td>\n",
       "      <td id=\"T_66fdd_row38_col2\" class=\"data row38 col2\" >AD</td>\n",
       "      <td id=\"T_66fdd_row38_col3\" class=\"data row38 col3\" >CME</td>\n",
       "      <td id=\"T_66fdd_row38_col4\" class=\"data row38 col4\" >A2</td>\n",
       "      <td id=\"T_66fdd_row38_col5\" class=\"data row38 col5\" >FOREX</td>\n",
       "      <td id=\"T_66fdd_row38_col6\" class=\"data row38 col6\" >7</td>\n",
       "      <td id=\"T_66fdd_row38_col7\" class=\"data row38 col7\" >Australian Dollar (combined)-CME</td>\n",
       "      <td id=\"T_66fdd_row38_col8\" class=\"data row38 col8\" >1987</td>\n",
       "    </tr>\n",
       "    <tr>\n",
       "      <th id=\"T_66fdd_level0_row39\" class=\"row_heading level0 row39\" >39</th>\n",
       "      <td id=\"T_66fdd_row39_col0\" class=\"data row39 col0\" >1.0e+06</td>\n",
       "      <td id=\"T_66fdd_row39_col1\" class=\"data row39 col1\" >USD</td>\n",
       "      <td id=\"T_66fdd_row39_col2\" class=\"data row39 col2\" >FC</td>\n",
       "      <td id=\"T_66fdd_row39_col3\" class=\"data row39 col3\" >CME</td>\n",
       "      <td id=\"T_66fdd_row39_col4\" class=\"data row39 col4\" >D2</td>\n",
       "      <td id=\"T_66fdd_row39_col5\" class=\"data row39 col5\" >Livestock & Meats</td>\n",
       "      <td id=\"T_66fdd_row39_col6\" class=\"data row39 col6\" >3</td>\n",
       "      <td id=\"T_66fdd_row39_col7\" class=\"data row39 col7\" >Feeder Cattle (combined)-CME</td>\n",
       "      <td id=\"T_66fdd_row39_col8\" class=\"data row39 col8\" >1976</td>\n",
       "    </tr>\n",
       "    <tr>\n",
       "      <th id=\"T_66fdd_level0_row40\" class=\"row_heading level0 row40\" >40</th>\n",
       "      <td id=\"T_66fdd_row40_col0\" class=\"data row40 col0\" >9.1e+05</td>\n",
       "      <td id=\"T_66fdd_row40_col1\" class=\"data row40 col1\" >USD</td>\n",
       "      <td id=\"T_66fdd_row40_col2\" class=\"data row40 col2\" >LSU</td>\n",
       "      <td id=\"T_66fdd_row40_col3\" class=\"data row40 col3\" >ICE-EU-AGS</td>\n",
       "      <td id=\"T_66fdd_row40_col4\" class=\"data row40 col4\" >W</td>\n",
       "      <td id=\"T_66fdd_row40_col5\" class=\"data row40 col5\" >Food & Fiber</td>\n",
       "      <td id=\"T_66fdd_row40_col6\" class=\"data row40 col6\" >5</td>\n",
       "      <td id=\"T_66fdd_row40_col7\" class=\"data row40 col7\" >White Sugar (#5)-EURONEXT(LCE)</td>\n",
       "      <td id=\"T_66fdd_row40_col8\" class=\"data row40 col8\" >1987</td>\n",
       "    </tr>\n",
       "    <tr>\n",
       "      <th id=\"T_66fdd_level0_row41\" class=\"row_heading level0 row41\" >41</th>\n",
       "      <td id=\"T_66fdd_row41_col0\" class=\"data row41 col0\" >6.9e+05</td>\n",
       "      <td id=\"T_66fdd_row41_col1\" class=\"data row41 col1\" >USD</td>\n",
       "      <td id=\"T_66fdd_row41_col2\" class=\"data row41 col2\" >LRC</td>\n",
       "      <td id=\"T_66fdd_row41_col3\" class=\"data row41 col3\" >ICE-EU-AGS</td>\n",
       "      <td id=\"T_66fdd_row41_col4\" class=\"data row41 col4\" >RC</td>\n",
       "      <td id=\"T_66fdd_row41_col5\" class=\"data row41 col5\" >Food & Fiber</td>\n",
       "      <td id=\"T_66fdd_row41_col6\" class=\"data row41 col6\" >6</td>\n",
       "      <td id=\"T_66fdd_row41_col7\" class=\"data row41 col7\" >Robusta Coffee</td>\n",
       "      <td id=\"T_66fdd_row41_col8\" class=\"data row41 col8\" >1976</td>\n",
       "    </tr>\n",
       "    <tr>\n",
       "      <th id=\"T_66fdd_level0_row42\" class=\"row_heading level0 row42\" >42</th>\n",
       "      <td id=\"T_66fdd_row42_col0\" class=\"data row42 col0\" >1.0e+05</td>\n",
       "      <td id=\"T_66fdd_row42_col1\" class=\"data row42 col1\" >USD</td>\n",
       "      <td id=\"T_66fdd_row42_col2\" class=\"data row42 col2\" >OJ2</td>\n",
       "      <td id=\"T_66fdd_row42_col3\" class=\"data row42 col3\" >ICE-US</td>\n",
       "      <td id=\"T_66fdd_row42_col4\" class=\"data row42 col4\" >OJ</td>\n",
       "      <td id=\"T_66fdd_row42_col5\" class=\"data row42 col5\" >Food & Fiber</td>\n",
       "      <td id=\"T_66fdd_row42_col6\" class=\"data row42 col6\" >7</td>\n",
       "      <td id=\"T_66fdd_row42_col7\" class=\"data row42 col7\" >Frozen Orange Juice (combined)</td>\n",
       "      <td id=\"T_66fdd_row42_col8\" class=\"data row42 col8\" >1976</td>\n",
       "    </tr>\n",
       "  </tbody>\n",
       "</table>\n"
      ],
      "text/plain": [
       "<pandas.io.formats.style.Styler at 0x7f8a344b39d0>"
      ]
     },
     "metadata": {},
     "output_type": "display_data"
    },
    {
     "name": "stdout",
     "output_type": "stream",
     "text": [
      "time: 30.5 ms (started: 2022-07-05 17:56:37 +08:00)\n"
     ]
    }
   ],
   "source": [
    "shortlist = (\n",
    "    contract_volumes    \n",
    "    .query(\"category != 'Equity Index'\")\n",
    "    .query(\"cat_rank <= 7 & start_year < 2000 & decade == 2010\")\n",
    "    .query(\"dollar_vol.rank(ascending=False) <= 50\")\n",
    "    .sort_values(\"dollar_vol\", ascending=False)\n",
    "    [[\"dollar_vol\", \"currency\", \"contract\", \"exchange\", \"exch_symbol\",\n",
    "      \"category\", \"cat_rank\", \"name\", \"start_year\"]]\n",
    "    .reset_index(drop=True)\n",
    ")\n",
    "with all_rows:\n",
    "    display(\n",
    "        shortlist\n",
    "        .style\n",
    "        .format(subset=[\"dollar_vol\"], formatter=\"{:.1e}\")\n",
    "        .set_properties(subset=[\"name\"], **{'white-space': 'pre-wrap'})\n",
    "    )"
   ]
  },
  {
   "cell_type": "code",
   "execution_count": 83,
   "metadata": {},
   "outputs": [
    {
     "name": "stdout",
     "output_type": "stream",
     "text": [
      "time: 18 s (started: 2022-07-05 17:56:37 +08:00)\n"
     ]
    }
   ],
   "source": [
    "top_ratio = (\n",
    "    dailies\n",
    "    .query(\"date > '2008'\")\n",
    "    .sort_values(\"volume\")\n",
    "    .groupby([\"contract\", \"date\"]).last()\n",
    "    .groupby([\"contract\", \"mod_month\"]).volume.count()\n",
    ")\n",
    "top_ratio /= top_ratio.groupby(\"contract\").transform(\"max\")"
   ]
  },
  {
   "cell_type": "code",
   "execution_count": 84,
   "metadata": {},
   "outputs": [
    {
     "data": {
      "application/vnd.jupyter.widget-view+json": {
       "model_id": "d388fef2ef404788888ba8ebfa148a98",
       "version_major": 2,
       "version_minor": 0
      },
      "text/plain": [
       "  0%|          | 0/43 [00:00<?, ?it/s]"
      ]
     },
     "metadata": {},
     "output_type": "display_data"
    },
    {
     "name": "stdout",
     "output_type": "stream",
     "text": [
      "time: 1.94 s (started: 2022-07-05 17:56:55 +08:00)\n"
     ]
    }
   ],
   "source": [
    "with PdfPages('expiry_volumes.pdf') as pdf:\n",
    "    for contract_rank in tqdm(shortlist.index):\n",
    "\n",
    "        title = \"{contract_rank} - {contract} / {exch_symbol}({exchange}) / {name}\".format(\n",
    "            contract_rank=contract_rank, **shortlist.loc[contract_rank].to_dict()\n",
    "        )\n",
    "\n",
    "        plt.figure(dpi=100)\n",
    "\n",
    "        ax = (\n",
    "            top_ratio\n",
    "            .loc[shortlist.contract[contract_rank]]\n",
    "            .plot.bar(figsize=(8, 5), title=title)\n",
    "        )\n",
    "        \n",
    "        ax.axhline(y=1/12, color=\"red\")\n",
    "        \n",
    "        pdf.savefig()\n",
    "        plt.close()        "
   ]
  },
  {
   "cell_type": "code",
   "execution_count": 85,
   "metadata": {},
   "outputs": [
    {
     "name": "stdout",
     "output_type": "stream",
     "text": [
      "time: 646 ms (started: 2022-07-05 17:56:57 +08:00)\n"
     ]
    }
   ],
   "source": [
    "active_months = top_ratio[top_ratio > 1/12].reset_index().drop(\"volume\", axis=1)\n",
    "dailies = dailies.merge(active_months)"
   ]
  },
  {
   "cell_type": "code",
   "execution_count": 86,
   "metadata": {},
   "outputs": [
    {
     "name": "stdout",
     "output_type": "stream",
     "text": [
      "time: 1.99 s (started: 2022-07-05 17:56:58 +08:00)\n"
     ]
    }
   ],
   "source": [
    "volumes = dailies.set_index([\"contract\", \"date\", \"expiry\"]).volume.loc[lambda xs: xs > 0]\n",
    "volumes /= volumes.groupby([\"contract\", \"date\"]).transform(\"sum\")\n",
    "volumes = volumes.sort_index().rename(\"volume_fraction\")\n",
    "volumes = volumes.groupby([\"contract\", \"expiry\"]).shift()"
   ]
  },
  {
   "cell_type": "code",
   "execution_count": 87,
   "metadata": {},
   "outputs": [
    {
     "name": "stdout",
     "output_type": "stream",
     "text": [
      "time: 4.61 s (started: 2022-07-05 17:57:00 +08:00)\n"
     ]
    }
   ],
   "source": [
    "front = (\n",
    "    volumes\n",
    "    .loc[lambda df: df.groupby([\"contract\", \"expiry\"]).cummax().gt(1/3)]\n",
    "    .reset_index()\n",
    "    .sort_values(\"expiry\")\n",
    "    .groupby([\"contract\", \"date\"])\n",
    "    .first().set_index(\"expiry\", append=True)\n",
    "    .join(dailies.set_index([\"contract\", \"date\", \"expiry\"]))\n",
    "    .reset_index(\"expiry\")\n",
    ")"
   ]
  },
  {
   "cell_type": "code",
   "execution_count": 88,
   "metadata": {},
   "outputs": [
    {
     "name": "stdout",
     "output_type": "stream",
     "text": [
      "time: 180 ms (started: 2022-07-05 17:57:04 +08:00)\n"
     ]
    }
   ],
   "source": [
    "front[\"vol\"] = (\n",
    "    front\n",
    "    .d_close.abs()\n",
    "    .groupby(\"contract\").rolling(180).mean()\n",
    "    .reset_index(level=0, drop=True)\n",
    "    .groupby(\"contract\").shift()\n",
    ")"
   ]
  },
  {
   "cell_type": "code",
   "execution_count": 89,
   "metadata": {},
   "outputs": [
    {
     "name": "stdout",
     "output_type": "stream",
     "text": [
      "time: 21.7 ms (started: 2022-07-05 17:57:04 +08:00)\n"
     ]
    }
   ],
   "source": [
    "dollar_vol2 = front[\"vol\"].groupby(\"contract\").last().mul(metadata.multiplier).dropna()"
   ]
  },
  {
   "cell_type": "code",
   "execution_count": 90,
   "metadata": {
    "scrolled": false
   },
   "outputs": [
    {
     "data": {
      "text/html": [
       "<style type=\"text/css\">\n",
       "#T_a305b_row0_col9, #T_a305b_row1_col9, #T_a305b_row2_col9, #T_a305b_row3_col9, #T_a305b_row4_col9, #T_a305b_row5_col9, #T_a305b_row6_col9, #T_a305b_row7_col9, #T_a305b_row8_col9, #T_a305b_row9_col9, #T_a305b_row10_col9, #T_a305b_row11_col9, #T_a305b_row12_col9, #T_a305b_row13_col9, #T_a305b_row14_col9, #T_a305b_row15_col9, #T_a305b_row16_col9, #T_a305b_row17_col9, #T_a305b_row18_col9, #T_a305b_row19_col9, #T_a305b_row20_col9, #T_a305b_row21_col9, #T_a305b_row22_col9, #T_a305b_row23_col9, #T_a305b_row24_col9, #T_a305b_row25_col9, #T_a305b_row26_col9, #T_a305b_row27_col9, #T_a305b_row28_col9, #T_a305b_row29_col9, #T_a305b_row30_col9, #T_a305b_row31_col9, #T_a305b_row32_col9, #T_a305b_row33_col9, #T_a305b_row34_col9, #T_a305b_row35_col9, #T_a305b_row36_col9, #T_a305b_row37_col9, #T_a305b_row38_col9, #T_a305b_row39_col9, #T_a305b_row40_col9, #T_a305b_row41_col9, #T_a305b_row42_col9 {\n",
       "  white-space: pre-wrap;\n",
       "}\n",
       "</style>\n",
       "<table id=\"T_a305b\">\n",
       "  <thead>\n",
       "    <tr>\n",
       "      <th class=\"blank level0\" >&nbsp;</th>\n",
       "      <th id=\"T_a305b_level0_col0\" class=\"col_heading level0 col0\" >dollar_vol2</th>\n",
       "      <th id=\"T_a305b_level0_col1\" class=\"col_heading level0 col1\" >dollar_tick</th>\n",
       "      <th id=\"T_a305b_level0_col2\" class=\"col_heading level0 col2\" >vol_ticks</th>\n",
       "      <th id=\"T_a305b_level0_col3\" class=\"col_heading level0 col3\" >currency</th>\n",
       "      <th id=\"T_a305b_level0_col4\" class=\"col_heading level0 col4\" >contract</th>\n",
       "      <th id=\"T_a305b_level0_col5\" class=\"col_heading level0 col5\" >exchange</th>\n",
       "      <th id=\"T_a305b_level0_col6\" class=\"col_heading level0 col6\" >exch_symbol</th>\n",
       "      <th id=\"T_a305b_level0_col7\" class=\"col_heading level0 col7\" >category</th>\n",
       "      <th id=\"T_a305b_level0_col8\" class=\"col_heading level0 col8\" >cat_rank</th>\n",
       "      <th id=\"T_a305b_level0_col9\" class=\"col_heading level0 col9\" >name</th>\n",
       "      <th id=\"T_a305b_level0_col10\" class=\"col_heading level0 col10\" >start_year</th>\n",
       "    </tr>\n",
       "  </thead>\n",
       "  <tbody>\n",
       "    <tr>\n",
       "      <th id=\"T_a305b_level0_row0\" class=\"row_heading level0 row0\" >35</th>\n",
       "      <td id=\"T_a305b_row0_col0\" class=\"data row0 col0\" >5,259</td>\n",
       "      <td id=\"T_a305b_row0_col1\" class=\"data row0 col1\" >50.0</td>\n",
       "      <td id=\"T_a305b_row0_col2\" class=\"data row0 col2\" >105.2</td>\n",
       "      <td id=\"T_a305b_row0_col3\" class=\"data row0 col3\" >USD</td>\n",
       "      <td id=\"T_a305b_row0_col4\" class=\"data row0 col4\" >PA2</td>\n",
       "      <td id=\"T_a305b_row0_col5\" class=\"data row0 col5\" >NYMEX</td>\n",
       "      <td id=\"T_a305b_row0_col6\" class=\"data row0 col6\" >PA</td>\n",
       "      <td id=\"T_a305b_row0_col7\" class=\"data row0 col7\" >Metals</td>\n",
       "      <td id=\"T_a305b_row0_col8\" class=\"data row0 col8\" >5</td>\n",
       "      <td id=\"T_a305b_row0_col9\" class=\"data row0 col9\" >Palladium (combined)-NYMEX</td>\n",
       "      <td id=\"T_a305b_row0_col10\" class=\"data row0 col10\" >1977</td>\n",
       "    </tr>\n",
       "    <tr>\n",
       "      <th id=\"T_a305b_level0_row1\" class=\"row_heading level0 row1\" >17</th>\n",
       "      <td id=\"T_a305b_row1_col0\" class=\"data row1 col0\" >3,529</td>\n",
       "      <td id=\"T_a305b_row1_col1\" class=\"data row1 col1\" >4.2</td>\n",
       "      <td id=\"T_a305b_row1_col2\" class=\"data row1 col2\" >840.2</td>\n",
       "      <td id=\"T_a305b_row1_col3\" class=\"data row1 col3\" >USD</td>\n",
       "      <td id=\"T_a305b_row1_col4\" class=\"data row1 col4\" >HO2</td>\n",
       "      <td id=\"T_a305b_row1_col5\" class=\"data row1 col5\" >NYMEX</td>\n",
       "      <td id=\"T_a305b_row1_col6\" class=\"data row1 col6\" >HO</td>\n",
       "      <td id=\"T_a305b_row1_col7\" class=\"data row1 col7\" >Energy</td>\n",
       "      <td id=\"T_a305b_row1_col8\" class=\"data row1 col8\" >6</td>\n",
       "      <td id=\"T_a305b_row1_col9\" class=\"data row1 col9\" >NY Harbor ULSD (combined)-NYMEX</td>\n",
       "      <td id=\"T_a305b_row1_col10\" class=\"data row1 col10\" >1978</td>\n",
       "    </tr>\n",
       "    <tr>\n",
       "      <th id=\"T_a305b_level0_row2\" class=\"row_heading level0 row2\" >0</th>\n",
       "      <td id=\"T_a305b_row2_col0\" class=\"data row2 col0\" >2,826</td>\n",
       "      <td id=\"T_a305b_row2_col1\" class=\"data row2 col1\" >15.6</td>\n",
       "      <td id=\"T_a305b_row2_col2\" class=\"data row2 col2\" >180.9</td>\n",
       "      <td id=\"T_a305b_row2_col3\" class=\"data row2 col3\" >USD</td>\n",
       "      <td id=\"T_a305b_row2_col4\" class=\"data row2 col4\" >US</td>\n",
       "      <td id=\"T_a305b_row2_col5\" class=\"data row2 col5\" >CBT</td>\n",
       "      <td id=\"T_a305b_row2_col6\" class=\"data row2 col6\" >US</td>\n",
       "      <td id=\"T_a305b_row2_col7\" class=\"data row2 col7\" >Fixed Income</td>\n",
       "      <td id=\"T_a305b_row2_col8\" class=\"data row2 col8\" >1</td>\n",
       "      <td id=\"T_a305b_row2_col9\" class=\"data row2 col9\" >U.S. T-Bond (combined)-CBT</td>\n",
       "      <td id=\"T_a305b_row2_col10\" class=\"data row2 col10\" >1977</td>\n",
       "    </tr>\n",
       "    <tr>\n",
       "      <th id=\"T_a305b_level0_row3\" class=\"row_heading level0 row3\" >16</th>\n",
       "      <td id=\"T_a305b_row3_col0\" class=\"data row3 col0\" >2,687</td>\n",
       "      <td id=\"T_a305b_row3_col1\" class=\"data row3 col1\" >4.2</td>\n",
       "      <td id=\"T_a305b_row3_col2\" class=\"data row3 col2\" >639.7</td>\n",
       "      <td id=\"T_a305b_row3_col3\" class=\"data row3 col3\" >USD</td>\n",
       "      <td id=\"T_a305b_row3_col4\" class=\"data row3 col4\" >RB2</td>\n",
       "      <td id=\"T_a305b_row3_col5\" class=\"data row3 col5\" >NYMEX</td>\n",
       "      <td id=\"T_a305b_row3_col6\" class=\"data row3 col6\" >RB</td>\n",
       "      <td id=\"T_a305b_row3_col7\" class=\"data row3 col7\" >Energy</td>\n",
       "      <td id=\"T_a305b_row3_col8\" class=\"data row3 col8\" >5</td>\n",
       "      <td id=\"T_a305b_row3_col9\" class=\"data row3 col9\" >Gasoline-Reformulated Blendstock(Combined)-NYMEX</td>\n",
       "      <td id=\"T_a305b_row3_col10\" class=\"data row3 col10\" >1984</td>\n",
       "    </tr>\n",
       "    <tr>\n",
       "      <th id=\"T_a305b_level0_row4\" class=\"row_heading level0 row4\" >11</th>\n",
       "      <td id=\"T_a305b_row4_col0\" class=\"data row4 col0\" >2,413</td>\n",
       "      <td id=\"T_a305b_row4_col1\" class=\"data row4 col1\" >10.0</td>\n",
       "      <td id=\"T_a305b_row4_col2\" class=\"data row4 col2\" >241.3</td>\n",
       "      <td id=\"T_a305b_row4_col3\" class=\"data row4 col3\" >USD</td>\n",
       "      <td id=\"T_a305b_row4_col4\" class=\"data row4 col4\" >NG2</td>\n",
       "      <td id=\"T_a305b_row4_col5\" class=\"data row4 col5\" >NYMEX</td>\n",
       "      <td id=\"T_a305b_row4_col6\" class=\"data row4 col6\" >NG</td>\n",
       "      <td id=\"T_a305b_row4_col7\" class=\"data row4 col7\" >Energy</td>\n",
       "      <td id=\"T_a305b_row4_col8\" class=\"data row4 col8\" >3</td>\n",
       "      <td id=\"T_a305b_row4_col9\" class=\"data row4 col9\" >Henry Hub Natural Gas (combined)-NYMEX</td>\n",
       "      <td id=\"T_a305b_row4_col10\" class=\"data row4 col10\" >1990</td>\n",
       "    </tr>\n",
       "    <tr>\n",
       "      <th id=\"T_a305b_level0_row5\" class=\"row_heading level0 row5\" >2</th>\n",
       "      <td id=\"T_a305b_row5_col0\" class=\"data row5 col0\" >2,184</td>\n",
       "      <td id=\"T_a305b_row5_col1\" class=\"data row5 col1\" >10.0</td>\n",
       "      <td id=\"T_a305b_row5_col2\" class=\"data row5 col2\" >218.4</td>\n",
       "      <td id=\"T_a305b_row5_col3\" class=\"data row5 col3\" >USD</td>\n",
       "      <td id=\"T_a305b_row5_col4\" class=\"data row5 col4\" >CL2</td>\n",
       "      <td id=\"T_a305b_row5_col5\" class=\"data row5 col5\" >NYMEX</td>\n",
       "      <td id=\"T_a305b_row5_col6\" class=\"data row5 col6\" >CL</td>\n",
       "      <td id=\"T_a305b_row5_col7\" class=\"data row5 col7\" >Energy</td>\n",
       "      <td id=\"T_a305b_row5_col8\" class=\"data row5 col8\" >1</td>\n",
       "      <td id=\"T_a305b_row5_col9\" class=\"data row5 col9\" >Crude Oil (combined)-NYMEX</td>\n",
       "      <td id=\"T_a305b_row5_col10\" class=\"data row5 col10\" >1983</td>\n",
       "    </tr>\n",
       "    <tr>\n",
       "      <th id=\"T_a305b_level0_row6\" class=\"row_heading level0 row6\" >5</th>\n",
       "      <td id=\"T_a305b_row6_col0\" class=\"data row6 col0\" >2,110</td>\n",
       "      <td id=\"T_a305b_row6_col1\" class=\"data row6 col1\" >10.0</td>\n",
       "      <td id=\"T_a305b_row6_col2\" class=\"data row6 col2\" >210.9</td>\n",
       "      <td id=\"T_a305b_row6_col3\" class=\"data row6 col3\" >USD</td>\n",
       "      <td id=\"T_a305b_row6_col4\" class=\"data row6 col4\" >LCO</td>\n",
       "      <td id=\"T_a305b_row6_col5\" class=\"data row6 col5\" >ICE-EU</td>\n",
       "      <td id=\"T_a305b_row6_col6\" class=\"data row6 col6\" >B</td>\n",
       "      <td id=\"T_a305b_row6_col7\" class=\"data row6 col7\" >Energy</td>\n",
       "      <td id=\"T_a305b_row6_col8\" class=\"data row6 col8\" >2</td>\n",
       "      <td id=\"T_a305b_row6_col9\" class=\"data row6 col9\" >Brent Crude (Combined)-(IPE)</td>\n",
       "      <td id=\"T_a305b_row6_col10\" class=\"data row6 col10\" >1988</td>\n",
       "    </tr>\n",
       "    <tr>\n",
       "      <th id=\"T_a305b_level0_row7\" class=\"row_heading level0 row7\" >10</th>\n",
       "      <td id=\"T_a305b_row7_col0\" class=\"data row7 col0\" >1,613</td>\n",
       "      <td id=\"T_a305b_row7_col1\" class=\"data row7 col1\" >5.0</td>\n",
       "      <td id=\"T_a305b_row7_col2\" class=\"data row7 col2\" >322.7</td>\n",
       "      <td id=\"T_a305b_row7_col3\" class=\"data row7 col3\" >USD</td>\n",
       "      <td id=\"T_a305b_row7_col4\" class=\"data row7 col4\" >SI2</td>\n",
       "      <td id=\"T_a305b_row7_col5\" class=\"data row7 col5\" >COMEX</td>\n",
       "      <td id=\"T_a305b_row7_col6\" class=\"data row7 col6\" >SI</td>\n",
       "      <td id=\"T_a305b_row7_col7\" class=\"data row7 col7\" >Metals</td>\n",
       "      <td id=\"T_a305b_row7_col8\" class=\"data row7 col8\" >2</td>\n",
       "      <td id=\"T_a305b_row7_col9\" class=\"data row7 col9\" >Silver (combined)-COMEX</td>\n",
       "      <td id=\"T_a305b_row7_col10\" class=\"data row7 col10\" >1976</td>\n",
       "    </tr>\n",
       "    <tr>\n",
       "      <th id=\"T_a305b_level0_row8\" class=\"row_heading level0 row8\" >12</th>\n",
       "      <td id=\"T_a305b_row8_col0\" class=\"data row8 col0\" >1,596</td>\n",
       "      <td id=\"T_a305b_row8_col1\" class=\"data row8 col1\" >25.0</td>\n",
       "      <td id=\"T_a305b_row8_col2\" class=\"data row8 col2\" >63.8</td>\n",
       "      <td id=\"T_a305b_row8_col3\" class=\"data row8 col3\" >USD</td>\n",
       "      <td id=\"T_a305b_row8_col4\" class=\"data row8 col4\" >LGO</td>\n",
       "      <td id=\"T_a305b_row8_col5\" class=\"data row8 col5\" >ICE-EU</td>\n",
       "      <td id=\"T_a305b_row8_col6\" class=\"data row8 col6\" >G</td>\n",
       "      <td id=\"T_a305b_row8_col7\" class=\"data row8 col7\" >Energy</td>\n",
       "      <td id=\"T_a305b_row8_col8\" class=\"data row8 col8\" >4</td>\n",
       "      <td id=\"T_a305b_row8_col9\" class=\"data row8 col9\" >Low Sulphur Gasoil (combined)</td>\n",
       "      <td id=\"T_a305b_row8_col10\" class=\"data row8 col10\" >1981</td>\n",
       "    </tr>\n",
       "    <tr>\n",
       "      <th id=\"T_a305b_level0_row9\" class=\"row_heading level0 row9\" >25</th>\n",
       "      <td id=\"T_a305b_row9_col0\" class=\"data row9 col0\" >1,444</td>\n",
       "      <td id=\"T_a305b_row9_col1\" class=\"data row9 col1\" >18.8</td>\n",
       "      <td id=\"T_a305b_row9_col2\" class=\"data row9 col2\" >77.0</td>\n",
       "      <td id=\"T_a305b_row9_col3\" class=\"data row9 col3\" >USD</td>\n",
       "      <td id=\"T_a305b_row9_col4\" class=\"data row9 col4\" >KC2</td>\n",
       "      <td id=\"T_a305b_row9_col5\" class=\"data row9 col5\" >ICE-US</td>\n",
       "      <td id=\"T_a305b_row9_col6\" class=\"data row9 col6\" >KC</td>\n",
       "      <td id=\"T_a305b_row9_col7\" class=\"data row9 col7\" >Food & Fiber</td>\n",
       "      <td id=\"T_a305b_row9_col8\" class=\"data row9 col8\" >2</td>\n",
       "      <td id=\"T_a305b_row9_col9\" class=\"data row9 col9\" >Coffee (combined)</td>\n",
       "      <td id=\"T_a305b_row9_col10\" class=\"data row9 col10\" >1976</td>\n",
       "    </tr>\n",
       "    <tr>\n",
       "      <th id=\"T_a305b_level0_row10\" class=\"row_heading level0 row10\" >19</th>\n",
       "      <td id=\"T_a305b_row10_col0\" class=\"data row10 col0\" >1,408</td>\n",
       "      <td id=\"T_a305b_row10_col1\" class=\"data row10 col1\" >12.5</td>\n",
       "      <td id=\"T_a305b_row10_col2\" class=\"data row10 col2\" >112.7</td>\n",
       "      <td id=\"T_a305b_row10_col3\" class=\"data row10 col3\" >USD</td>\n",
       "      <td id=\"T_a305b_row10_col4\" class=\"data row10 col4\" >HG2</td>\n",
       "      <td id=\"T_a305b_row10_col5\" class=\"data row10 col5\" >COMEX</td>\n",
       "      <td id=\"T_a305b_row10_col6\" class=\"data row10 col6\" >HG</td>\n",
       "      <td id=\"T_a305b_row10_col7\" class=\"data row10 col7\" >Metals</td>\n",
       "      <td id=\"T_a305b_row10_col8\" class=\"data row10 col8\" >3</td>\n",
       "      <td id=\"T_a305b_row10_col9\" class=\"data row10 col9\" >Copper (combined)-COMEX</td>\n",
       "      <td id=\"T_a305b_row10_col10\" class=\"data row10 col10\" >1976</td>\n",
       "    </tr>\n",
       "    <tr>\n",
       "      <th id=\"T_a305b_level0_row11\" class=\"row_heading level0 row11\" >18</th>\n",
       "      <td id=\"T_a305b_row11_col0\" class=\"data row11 col0\" >1,383</td>\n",
       "      <td id=\"T_a305b_row11_col1\" class=\"data row11 col1\" >12.5</td>\n",
       "      <td id=\"T_a305b_row11_col2\" class=\"data row11 col2\" >110.7</td>\n",
       "      <td id=\"T_a305b_row11_col3\" class=\"data row11 col3\" >USD</td>\n",
       "      <td id=\"T_a305b_row11_col4\" class=\"data row11 col4\" >W2</td>\n",
       "      <td id=\"T_a305b_row11_col5\" class=\"data row11 col5\" >CBT</td>\n",
       "      <td id=\"T_a305b_row11_col6\" class=\"data row11 col6\" >W</td>\n",
       "      <td id=\"T_a305b_row11_col7\" class=\"data row11 col7\" >Grains & Oilseeds</td>\n",
       "      <td id=\"T_a305b_row11_col8\" class=\"data row11 col8\" >3</td>\n",
       "      <td id=\"T_a305b_row11_col9\" class=\"data row11 col9\" >Wheat (combined)-CBT</td>\n",
       "      <td id=\"T_a305b_row11_col10\" class=\"data row11 col10\" >1976</td>\n",
       "    </tr>\n",
       "    <tr>\n",
       "      <th id=\"T_a305b_level0_row12\" class=\"row_heading level0 row12\" >6</th>\n",
       "      <td id=\"T_a305b_row12_col0\" class=\"data row12 col0\" >1,368</td>\n",
       "      <td id=\"T_a305b_row12_col1\" class=\"data row12 col1\" >10.0</td>\n",
       "      <td id=\"T_a305b_row12_col2\" class=\"data row12 col2\" >136.8</td>\n",
       "      <td id=\"T_a305b_row12_col3\" class=\"data row12 col3\" >USD</td>\n",
       "      <td id=\"T_a305b_row12_col4\" class=\"data row12 col4\" >GC2</td>\n",
       "      <td id=\"T_a305b_row12_col5\" class=\"data row12 col5\" >COMEX</td>\n",
       "      <td id=\"T_a305b_row12_col6\" class=\"data row12 col6\" >GC</td>\n",
       "      <td id=\"T_a305b_row12_col7\" class=\"data row12 col7\" >Metals</td>\n",
       "      <td id=\"T_a305b_row12_col8\" class=\"data row12 col8\" >1</td>\n",
       "      <td id=\"T_a305b_row12_col9\" class=\"data row12 col9\" >Gold (combined)-COMEX</td>\n",
       "      <td id=\"T_a305b_row12_col10\" class=\"data row12 col10\" >1976</td>\n",
       "    </tr>\n",
       "    <tr>\n",
       "      <th id=\"T_a305b_level0_row13\" class=\"row_heading level0 row13\" >27</th>\n",
       "      <td id=\"T_a305b_row13_col0\" class=\"data row13 col0\" >1,264</td>\n",
       "      <td id=\"T_a305b_row13_col1\" class=\"data row13 col1\" >12.5</td>\n",
       "      <td id=\"T_a305b_row13_col2\" class=\"data row13 col2\" >101.2</td>\n",
       "      <td id=\"T_a305b_row13_col3\" class=\"data row13 col3\" >USD</td>\n",
       "      <td id=\"T_a305b_row13_col4\" class=\"data row13 col4\" >KW2</td>\n",
       "      <td id=\"T_a305b_row13_col5\" class=\"data row13 col5\" >CBT</td>\n",
       "      <td id=\"T_a305b_row13_col6\" class=\"data row13 col6\" >KE</td>\n",
       "      <td id=\"T_a305b_row13_col7\" class=\"data row13 col7\" >Grains & Oilseeds</td>\n",
       "      <td id=\"T_a305b_row13_col8\" class=\"data row13 col8\" >6</td>\n",
       "      <td id=\"T_a305b_row13_col9\" class=\"data row13 col9\" >Kansas City HRW Wheat (combined)-KCBT</td>\n",
       "      <td id=\"T_a305b_row13_col10\" class=\"data row13 col10\" >1976</td>\n",
       "    </tr>\n",
       "    <tr>\n",
       "      <th id=\"T_a305b_level0_row14\" class=\"row_heading level0 row14\" >37</th>\n",
       "      <td id=\"T_a305b_row14_col0\" class=\"data row14 col0\" >1,089</td>\n",
       "      <td id=\"T_a305b_row14_col1\" class=\"data row14 col1\" >12.5</td>\n",
       "      <td id=\"T_a305b_row14_col2\" class=\"data row14 col2\" >87.2</td>\n",
       "      <td id=\"T_a305b_row14_col3\" class=\"data row14 col3\" >USD</td>\n",
       "      <td id=\"T_a305b_row14_col4\" class=\"data row14 col4\" >MW2</td>\n",
       "      <td id=\"T_a305b_row14_col5\" class=\"data row14 col5\" >MGE</td>\n",
       "      <td id=\"T_a305b_row14_col6\" class=\"data row14 col6\" >MWE</td>\n",
       "      <td id=\"T_a305b_row14_col7\" class=\"data row14 col7\" >Grains & Oilseeds</td>\n",
       "      <td id=\"T_a305b_row14_col8\" class=\"data row14 col8\" >7</td>\n",
       "      <td id=\"T_a305b_row14_col9\" class=\"data row14 col9\" >Spring Wheat (combined)-MGE</td>\n",
       "      <td id=\"T_a305b_row14_col10\" class=\"data row14 col10\" >1976</td>\n",
       "    </tr>\n",
       "    <tr>\n",
       "      <th id=\"T_a305b_level0_row15\" class=\"row_heading level0 row15\" >8</th>\n",
       "      <td id=\"T_a305b_row15_col0\" class=\"data row15 col0\" >1,085</td>\n",
       "      <td id=\"T_a305b_row15_col1\" class=\"data row15 col1\" >12.5</td>\n",
       "      <td id=\"T_a305b_row15_col2\" class=\"data row15 col2\" >86.8</td>\n",
       "      <td id=\"T_a305b_row15_col3\" class=\"data row15 col3\" >USD</td>\n",
       "      <td id=\"T_a305b_row15_col4\" class=\"data row15 col4\" >S2</td>\n",
       "      <td id=\"T_a305b_row15_col5\" class=\"data row15 col5\" >CBT</td>\n",
       "      <td id=\"T_a305b_row15_col6\" class=\"data row15 col6\" >S</td>\n",
       "      <td id=\"T_a305b_row15_col7\" class=\"data row15 col7\" >Grains & Oilseeds</td>\n",
       "      <td id=\"T_a305b_row15_col8\" class=\"data row15 col8\" >1</td>\n",
       "      <td id=\"T_a305b_row15_col9\" class=\"data row15 col9\" >Soybeans (combined)-CBT</td>\n",
       "      <td id=\"T_a305b_row15_col10\" class=\"data row15 col10\" >1976</td>\n",
       "    </tr>\n",
       "    <tr>\n",
       "      <th id=\"T_a305b_level0_row16\" class=\"row_heading level0 row16\" >28</th>\n",
       "      <td id=\"T_a305b_row16_col0\" class=\"data row16 col0\" >1,017</td>\n",
       "      <td id=\"T_a305b_row16_col1\" class=\"data row16 col1\" >5.0</td>\n",
       "      <td id=\"T_a305b_row16_col2\" class=\"data row16 col2\" >203.5</td>\n",
       "      <td id=\"T_a305b_row16_col3\" class=\"data row16 col3\" >USD</td>\n",
       "      <td id=\"T_a305b_row16_col4\" class=\"data row16 col4\" >CT2</td>\n",
       "      <td id=\"T_a305b_row16_col5\" class=\"data row16 col5\" >ICE-US</td>\n",
       "      <td id=\"T_a305b_row16_col6\" class=\"data row16 col6\" >CT</td>\n",
       "      <td id=\"T_a305b_row16_col7\" class=\"data row16 col7\" >Food & Fiber</td>\n",
       "      <td id=\"T_a305b_row16_col8\" class=\"data row16 col8\" >3</td>\n",
       "      <td id=\"T_a305b_row16_col9\" class=\"data row16 col9\" >Cotton #2 (combined)</td>\n",
       "      <td id=\"T_a305b_row16_col10\" class=\"data row16 col10\" >1976</td>\n",
       "    </tr>\n",
       "    <tr>\n",
       "      <th id=\"T_a305b_level0_row17\" class=\"row_heading level0 row17\" >33</th>\n",
       "      <td id=\"T_a305b_row17_col0\" class=\"data row17 col0\" >783</td>\n",
       "      <td id=\"T_a305b_row17_col1\" class=\"data row17 col1\" >5.0</td>\n",
       "      <td id=\"T_a305b_row17_col2\" class=\"data row17 col2\" >156.6</td>\n",
       "      <td id=\"T_a305b_row17_col3\" class=\"data row17 col3\" >USD</td>\n",
       "      <td id=\"T_a305b_row17_col4\" class=\"data row17 col4\" >PL2</td>\n",
       "      <td id=\"T_a305b_row17_col5\" class=\"data row17 col5\" >NYMEX</td>\n",
       "      <td id=\"T_a305b_row17_col6\" class=\"data row17 col6\" >PL</td>\n",
       "      <td id=\"T_a305b_row17_col7\" class=\"data row17 col7\" >Metals</td>\n",
       "      <td id=\"T_a305b_row17_col8\" class=\"data row17 col8\" >4</td>\n",
       "      <td id=\"T_a305b_row17_col9\" class=\"data row17 col9\" >Platinum (combined)-NYMEX</td>\n",
       "      <td id=\"T_a305b_row17_col10\" class=\"data row17 col10\" >1976</td>\n",
       "    </tr>\n",
       "    <tr>\n",
       "      <th id=\"T_a305b_level0_row18\" class=\"row_heading level0 row18\" >4</th>\n",
       "      <td id=\"T_a305b_row18_col0\" class=\"data row18 col0\" >768</td>\n",
       "      <td id=\"T_a305b_row18_col1\" class=\"data row18 col1\" >7.8</td>\n",
       "      <td id=\"T_a305b_row18_col2\" class=\"data row18 col2\" >98.3</td>\n",
       "      <td id=\"T_a305b_row18_col3\" class=\"data row18 col3\" >USD</td>\n",
       "      <td id=\"T_a305b_row18_col4\" class=\"data row18 col4\" >FV</td>\n",
       "      <td id=\"T_a305b_row18_col5\" class=\"data row18 col5\" >CBT</td>\n",
       "      <td id=\"T_a305b_row18_col6\" class=\"data row18 col6\" >FV</td>\n",
       "      <td id=\"T_a305b_row18_col7\" class=\"data row18 col7\" >Fixed Income</td>\n",
       "      <td id=\"T_a305b_row18_col8\" class=\"data row18 col8\" >4</td>\n",
       "      <td id=\"T_a305b_row18_col9\" class=\"data row18 col9\" >5-Year U.S. T-Note (combined)-CBT</td>\n",
       "      <td id=\"T_a305b_row18_col10\" class=\"data row18 col10\" >1988</td>\n",
       "    </tr>\n",
       "    <tr>\n",
       "      <th id=\"T_a305b_level0_row19\" class=\"row_heading level0 row19\" >26</th>\n",
       "      <td id=\"T_a305b_row19_col0\" class=\"data row19 col0\" >681</td>\n",
       "      <td id=\"T_a305b_row19_col1\" class=\"data row19 col1\" >6.0</td>\n",
       "      <td id=\"T_a305b_row19_col2\" class=\"data row19 col2\" >113.5</td>\n",
       "      <td id=\"T_a305b_row19_col3\" class=\"data row19 col3\" >USD</td>\n",
       "      <td id=\"T_a305b_row19_col4\" class=\"data row19 col4\" >BO2</td>\n",
       "      <td id=\"T_a305b_row19_col5\" class=\"data row19 col5\" >CBT</td>\n",
       "      <td id=\"T_a305b_row19_col6\" class=\"data row19 col6\" >BO</td>\n",
       "      <td id=\"T_a305b_row19_col7\" class=\"data row19 col7\" >Grains & Oilseeds</td>\n",
       "      <td id=\"T_a305b_row19_col8\" class=\"data row19 col8\" >5</td>\n",
       "      <td id=\"T_a305b_row19_col9\" class=\"data row19 col9\" >Soybean Oil (combined)-CBT</td>\n",
       "      <td id=\"T_a305b_row19_col10\" class=\"data row19 col10\" >1976</td>\n",
       "    </tr>\n",
       "    <tr>\n",
       "      <th id=\"T_a305b_level0_row20\" class=\"row_heading level0 row20\" >1</th>\n",
       "      <td id=\"T_a305b_row20_col0\" class=\"data row20 col0\" >665</td>\n",
       "      <td id=\"T_a305b_row20_col1\" class=\"data row20 col1\" >15.6</td>\n",
       "      <td id=\"T_a305b_row20_col2\" class=\"data row20 col2\" >42.5</td>\n",
       "      <td id=\"T_a305b_row20_col3\" class=\"data row20 col3\" >USD</td>\n",
       "      <td id=\"T_a305b_row20_col4\" class=\"data row20 col4\" >TY</td>\n",
       "      <td id=\"T_a305b_row20_col5\" class=\"data row20 col5\" >CBT</td>\n",
       "      <td id=\"T_a305b_row20_col6\" class=\"data row20 col6\" >TYF</td>\n",
       "      <td id=\"T_a305b_row20_col7\" class=\"data row20 col7\" >Fixed Income</td>\n",
       "      <td id=\"T_a305b_row20_col8\" class=\"data row20 col8\" >2</td>\n",
       "      <td id=\"T_a305b_row20_col9\" class=\"data row20 col9\" >10-Year U.S. T-Note (combined)-CBT</td>\n",
       "      <td id=\"T_a305b_row20_col10\" class=\"data row20 col10\" >1982</td>\n",
       "    </tr>\n",
       "    <tr>\n",
       "      <th id=\"T_a305b_level0_row21\" class=\"row_heading level0 row21\" >3</th>\n",
       "      <td id=\"T_a305b_row21_col0\" class=\"data row21 col0\" >659</td>\n",
       "      <td id=\"T_a305b_row21_col1\" class=\"data row21 col1\" >10.0</td>\n",
       "      <td id=\"T_a305b_row21_col2\" class=\"data row21 col2\" >65.9</td>\n",
       "      <td id=\"T_a305b_row21_col3\" class=\"data row21 col3\" >EUR</td>\n",
       "      <td id=\"T_a305b_row21_col4\" class=\"data row21 col4\" >EBL</td>\n",
       "      <td id=\"T_a305b_row21_col5\" class=\"data row21 col5\" >EUREX</td>\n",
       "      <td id=\"T_a305b_row21_col6\" class=\"data row21 col6\" >FGBL</td>\n",
       "      <td id=\"T_a305b_row21_col7\" class=\"data row21 col7\" >Fixed Income</td>\n",
       "      <td id=\"T_a305b_row21_col8\" class=\"data row21 col8\" >3</td>\n",
       "      <td id=\"T_a305b_row21_col9\" class=\"data row21 col9\" >Euro German Bund-EUREX</td>\n",
       "      <td id=\"T_a305b_row21_col10\" class=\"data row21 col10\" >1990</td>\n",
       "    </tr>\n",
       "    <tr>\n",
       "      <th id=\"T_a305b_level0_row22\" class=\"row_heading level0 row22\" >24</th>\n",
       "      <td id=\"T_a305b_row22_col0\" class=\"data row22 col0\" >609</td>\n",
       "      <td id=\"T_a305b_row22_col1\" class=\"data row22 col1\" >10.0</td>\n",
       "      <td id=\"T_a305b_row22_col2\" class=\"data row22 col2\" >60.9</td>\n",
       "      <td id=\"T_a305b_row22_col3\" class=\"data row22 col3\" >USD</td>\n",
       "      <td id=\"T_a305b_row22_col4\" class=\"data row22 col4\" >SM2</td>\n",
       "      <td id=\"T_a305b_row22_col5\" class=\"data row22 col5\" >CBT</td>\n",
       "      <td id=\"T_a305b_row22_col6\" class=\"data row22 col6\" >SM</td>\n",
       "      <td id=\"T_a305b_row22_col7\" class=\"data row22 col7\" >Grains & Oilseeds</td>\n",
       "      <td id=\"T_a305b_row22_col8\" class=\"data row22 col8\" >4</td>\n",
       "      <td id=\"T_a305b_row22_col9\" class=\"data row22 col9\" >Soybean Meal (combined)-CBT</td>\n",
       "      <td id=\"T_a305b_row22_col10\" class=\"data row22 col10\" >1976</td>\n",
       "    </tr>\n",
       "    <tr>\n",
       "      <th id=\"T_a305b_level0_row23\" class=\"row_heading level0 row23\" >7</th>\n",
       "      <td id=\"T_a305b_row23_col0\" class=\"data row23 col0\" >591</td>\n",
       "      <td id=\"T_a305b_row23_col1\" class=\"data row23 col1\" >6.2</td>\n",
       "      <td id=\"T_a305b_row23_col2\" class=\"data row23 col2\" >94.6</td>\n",
       "      <td id=\"T_a305b_row23_col3\" class=\"data row23 col3\" >USD</td>\n",
       "      <td id=\"T_a305b_row23_col4\" class=\"data row23 col4\" >CU</td>\n",
       "      <td id=\"T_a305b_row23_col5\" class=\"data row23 col5\" >CME</td>\n",
       "      <td id=\"T_a305b_row23_col6\" class=\"data row23 col6\" >Y2</td>\n",
       "      <td id=\"T_a305b_row23_col7\" class=\"data row23 col7\" >FOREX</td>\n",
       "      <td id=\"T_a305b_row23_col8\" class=\"data row23 col8\" >1</td>\n",
       "      <td id=\"T_a305b_row23_col9\" class=\"data row23 col9\" >Euro (combined)-CME</td>\n",
       "      <td id=\"T_a305b_row23_col10\" class=\"data row23 col10\" >1976</td>\n",
       "    </tr>\n",
       "    <tr>\n",
       "      <th id=\"T_a305b_level0_row24\" class=\"row_heading level0 row24\" >39</th>\n",
       "      <td id=\"T_a305b_row24_col0\" class=\"data row24 col0\" >569</td>\n",
       "      <td id=\"T_a305b_row24_col1\" class=\"data row24 col1\" >12.5</td>\n",
       "      <td id=\"T_a305b_row24_col2\" class=\"data row24 col2\" >45.6</td>\n",
       "      <td id=\"T_a305b_row24_col3\" class=\"data row24 col3\" >USD</td>\n",
       "      <td id=\"T_a305b_row24_col4\" class=\"data row24 col4\" >FC</td>\n",
       "      <td id=\"T_a305b_row24_col5\" class=\"data row24 col5\" >CME</td>\n",
       "      <td id=\"T_a305b_row24_col6\" class=\"data row24 col6\" >D2</td>\n",
       "      <td id=\"T_a305b_row24_col7\" class=\"data row24 col7\" >Livestock & Meats</td>\n",
       "      <td id=\"T_a305b_row24_col8\" class=\"data row24 col8\" >3</td>\n",
       "      <td id=\"T_a305b_row24_col9\" class=\"data row24 col9\" >Feeder Cattle (combined)-CME</td>\n",
       "      <td id=\"T_a305b_row24_col10\" class=\"data row24 col10\" >1976</td>\n",
       "    </tr>\n",
       "    <tr>\n",
       "      <th id=\"T_a305b_level0_row25\" class=\"row_heading level0 row25\" >9</th>\n",
       "      <td id=\"T_a305b_row25_col0\" class=\"data row25 col0\" >550</td>\n",
       "      <td id=\"T_a305b_row25_col1\" class=\"data row25 col1\" >12.5</td>\n",
       "      <td id=\"T_a305b_row25_col2\" class=\"data row25 col2\" >44.0</td>\n",
       "      <td id=\"T_a305b_row25_col3\" class=\"data row25 col3\" >USD</td>\n",
       "      <td id=\"T_a305b_row25_col4\" class=\"data row25 col4\" >C2</td>\n",
       "      <td id=\"T_a305b_row25_col5\" class=\"data row25 col5\" >CBT</td>\n",
       "      <td id=\"T_a305b_row25_col6\" class=\"data row25 col6\" >C</td>\n",
       "      <td id=\"T_a305b_row25_col7\" class=\"data row25 col7\" >Grains & Oilseeds</td>\n",
       "      <td id=\"T_a305b_row25_col8\" class=\"data row25 col8\" >2</td>\n",
       "      <td id=\"T_a305b_row25_col9\" class=\"data row25 col9\" >Corn (combined)-CBT</td>\n",
       "      <td id=\"T_a305b_row25_col10\" class=\"data row25 col10\" >1976</td>\n",
       "    </tr>\n",
       "    <tr>\n",
       "      <th id=\"T_a305b_level0_row26\" class=\"row_heading level0 row26\" >30</th>\n",
       "      <td id=\"T_a305b_row26_col0\" class=\"data row26 col0\" >526</td>\n",
       "      <td id=\"T_a305b_row26_col1\" class=\"data row26 col1\" >10.0</td>\n",
       "      <td id=\"T_a305b_row26_col2\" class=\"data row26 col2\" >52.6</td>\n",
       "      <td id=\"T_a305b_row26_col3\" class=\"data row26 col3\" >USD</td>\n",
       "      <td id=\"T_a305b_row26_col4\" class=\"data row26 col4\" >LH</td>\n",
       "      <td id=\"T_a305b_row26_col5\" class=\"data row26 col5\" >CME</td>\n",
       "      <td id=\"T_a305b_row26_col6\" class=\"data row26 col6\" >LH</td>\n",
       "      <td id=\"T_a305b_row26_col7\" class=\"data row26 col7\" >Livestock & Meats</td>\n",
       "      <td id=\"T_a305b_row26_col8\" class=\"data row26 col8\" >2</td>\n",
       "      <td id=\"T_a305b_row26_col9\" class=\"data row26 col9\" >Lean Hogs (combined)-CME</td>\n",
       "      <td id=\"T_a305b_row26_col10\" class=\"data row26 col10\" >1976</td>\n",
       "    </tr>\n",
       "    <tr>\n",
       "      <th id=\"T_a305b_level0_row27\" class=\"row_heading level0 row27\" >15</th>\n",
       "      <td id=\"T_a305b_row27_col0\" class=\"data row27 col0\" >498</td>\n",
       "      <td id=\"T_a305b_row27_col1\" class=\"data row27 col1\" >7.8</td>\n",
       "      <td id=\"T_a305b_row27_col2\" class=\"data row27 col2\" >63.7</td>\n",
       "      <td id=\"T_a305b_row27_col3\" class=\"data row27 col3\" >USD</td>\n",
       "      <td id=\"T_a305b_row27_col4\" class=\"data row27 col4\" >TU</td>\n",
       "      <td id=\"T_a305b_row27_col5\" class=\"data row27 col5\" >CBT</td>\n",
       "      <td id=\"T_a305b_row27_col6\" class=\"data row27 col6\" >TU</td>\n",
       "      <td id=\"T_a305b_row27_col7\" class=\"data row27 col7\" >Fixed Income</td>\n",
       "      <td id=\"T_a305b_row27_col8\" class=\"data row27 col8\" >6</td>\n",
       "      <td id=\"T_a305b_row27_col9\" class=\"data row27 col9\" >2-Year U.S. T-Note (combined)-CBT</td>\n",
       "      <td id=\"T_a305b_row27_col10\" class=\"data row27 col10\" >1990</td>\n",
       "    </tr>\n",
       "    <tr>\n",
       "      <th id=\"T_a305b_level0_row28\" class=\"row_heading level0 row28\" >42</th>\n",
       "      <td id=\"T_a305b_row28_col0\" class=\"data row28 col0\" >445</td>\n",
       "      <td id=\"T_a305b_row28_col1\" class=\"data row28 col1\" >7.5</td>\n",
       "      <td id=\"T_a305b_row28_col2\" class=\"data row28 col2\" >59.4</td>\n",
       "      <td id=\"T_a305b_row28_col3\" class=\"data row28 col3\" >USD</td>\n",
       "      <td id=\"T_a305b_row28_col4\" class=\"data row28 col4\" >OJ2</td>\n",
       "      <td id=\"T_a305b_row28_col5\" class=\"data row28 col5\" >ICE-US</td>\n",
       "      <td id=\"T_a305b_row28_col6\" class=\"data row28 col6\" >OJ</td>\n",
       "      <td id=\"T_a305b_row28_col7\" class=\"data row28 col7\" >Food & Fiber</td>\n",
       "      <td id=\"T_a305b_row28_col8\" class=\"data row28 col8\" >7</td>\n",
       "      <td id=\"T_a305b_row28_col9\" class=\"data row28 col9\" >Frozen Orange Juice (combined)</td>\n",
       "      <td id=\"T_a305b_row28_col10\" class=\"data row28 col10\" >1976</td>\n",
       "    </tr>\n",
       "    <tr>\n",
       "      <th id=\"T_a305b_level0_row29\" class=\"row_heading level0 row29\" >13</th>\n",
       "      <td id=\"T_a305b_row29_col0\" class=\"data row29 col0\" >431</td>\n",
       "      <td id=\"T_a305b_row29_col1\" class=\"data row29 col1\" >6.2</td>\n",
       "      <td id=\"T_a305b_row29_col2\" class=\"data row29 col2\" >68.9</td>\n",
       "      <td id=\"T_a305b_row29_col3\" class=\"data row29 col3\" >USD</td>\n",
       "      <td id=\"T_a305b_row29_col4\" class=\"data row29 col4\" >JY</td>\n",
       "      <td id=\"T_a305b_row29_col5\" class=\"data row29 col5\" >CME</td>\n",
       "      <td id=\"T_a305b_row29_col6\" class=\"data row29 col6\" >JY</td>\n",
       "      <td id=\"T_a305b_row29_col7\" class=\"data row29 col7\" >FOREX</td>\n",
       "      <td id=\"T_a305b_row29_col8\" class=\"data row29 col8\" >2</td>\n",
       "      <td id=\"T_a305b_row29_col9\" class=\"data row29 col9\" >Japanese Yen (combined)-CME</td>\n",
       "      <td id=\"T_a305b_row29_col10\" class=\"data row29 col10\" >1976</td>\n",
       "    </tr>\n",
       "    <tr>\n",
       "      <th id=\"T_a305b_level0_row30\" class=\"row_heading level0 row30\" >38</th>\n",
       "      <td id=\"T_a305b_row30_col0\" class=\"data row30 col0\" >414</td>\n",
       "      <td id=\"T_a305b_row30_col1\" class=\"data row30 col1\" >5.0</td>\n",
       "      <td id=\"T_a305b_row30_col2\" class=\"data row30 col2\" >82.9</td>\n",
       "      <td id=\"T_a305b_row30_col3\" class=\"data row30 col3\" >USD</td>\n",
       "      <td id=\"T_a305b_row30_col4\" class=\"data row30 col4\" >AD</td>\n",
       "      <td id=\"T_a305b_row30_col5\" class=\"data row30 col5\" >CME</td>\n",
       "      <td id=\"T_a305b_row30_col6\" class=\"data row30 col6\" >A2</td>\n",
       "      <td id=\"T_a305b_row30_col7\" class=\"data row30 col7\" >FOREX</td>\n",
       "      <td id=\"T_a305b_row30_col8\" class=\"data row30 col8\" >7</td>\n",
       "      <td id=\"T_a305b_row30_col9\" class=\"data row30 col9\" >Australian Dollar (combined)-CME</td>\n",
       "      <td id=\"T_a305b_row30_col10\" class=\"data row30 col10\" >1987</td>\n",
       "    </tr>\n",
       "    <tr>\n",
       "      <th id=\"T_a305b_level0_row31\" class=\"row_heading level0 row31\" >32</th>\n",
       "      <td id=\"T_a305b_row31_col0\" class=\"data row31 col0\" >359</td>\n",
       "      <td id=\"T_a305b_row31_col1\" class=\"data row31 col1\" >5.0</td>\n",
       "      <td id=\"T_a305b_row31_col2\" class=\"data row31 col2\" >71.7</td>\n",
       "      <td id=\"T_a305b_row31_col3\" class=\"data row31 col3\" >USD</td>\n",
       "      <td id=\"T_a305b_row31_col4\" class=\"data row31 col4\" >DX2</td>\n",
       "      <td id=\"T_a305b_row31_col5\" class=\"data row31 col5\" >ICE-US</td>\n",
       "      <td id=\"T_a305b_row31_col6\" class=\"data row31 col6\" >DX</td>\n",
       "      <td id=\"T_a305b_row31_col7\" class=\"data row31 col7\" >Index</td>\n",
       "      <td id=\"T_a305b_row31_col8\" class=\"data row31 col8\" >1</td>\n",
       "      <td id=\"T_a305b_row31_col9\" class=\"data row31 col9\" >U.S. Dollar Index (combined)-FINEX</td>\n",
       "      <td id=\"T_a305b_row31_col10\" class=\"data row31 col10\" >1985</td>\n",
       "    </tr>\n",
       "    <tr>\n",
       "      <th id=\"T_a305b_level0_row32\" class=\"row_heading level0 row32\" >29</th>\n",
       "      <td id=\"T_a305b_row32_col0\" class=\"data row32 col0\" >339</td>\n",
       "      <td id=\"T_a305b_row32_col1\" class=\"data row32 col1\" >10.0</td>\n",
       "      <td id=\"T_a305b_row32_col2\" class=\"data row32 col2\" >33.9</td>\n",
       "      <td id=\"T_a305b_row32_col3\" class=\"data row32 col3\" >USD</td>\n",
       "      <td id=\"T_a305b_row32_col4\" class=\"data row32 col4\" >LC</td>\n",
       "      <td id=\"T_a305b_row32_col5\" class=\"data row32 col5\" >CME</td>\n",
       "      <td id=\"T_a305b_row32_col6\" class=\"data row32 col6\" >L2</td>\n",
       "      <td id=\"T_a305b_row32_col7\" class=\"data row32 col7\" >Livestock & Meats</td>\n",
       "      <td id=\"T_a305b_row32_col8\" class=\"data row32 col8\" >1</td>\n",
       "      <td id=\"T_a305b_row32_col9\" class=\"data row32 col9\" >Live Cattle (combined)-CME</td>\n",
       "      <td id=\"T_a305b_row32_col10\" class=\"data row32 col10\" >1976</td>\n",
       "    </tr>\n",
       "    <tr>\n",
       "      <th id=\"T_a305b_level0_row33\" class=\"row_heading level0 row33\" >22</th>\n",
       "      <td id=\"T_a305b_row33_col0\" class=\"data row33 col0\" >335</td>\n",
       "      <td id=\"T_a305b_row33_col1\" class=\"data row33 col1\" >6.2</td>\n",
       "      <td id=\"T_a305b_row33_col2\" class=\"data row33 col2\" >53.5</td>\n",
       "      <td id=\"T_a305b_row33_col3\" class=\"data row33 col3\" >USD</td>\n",
       "      <td id=\"T_a305b_row33_col4\" class=\"data row33 col4\" >BP</td>\n",
       "      <td id=\"T_a305b_row33_col5\" class=\"data row33 col5\" >CME</td>\n",
       "      <td id=\"T_a305b_row33_col6\" class=\"data row33 col6\" >NB</td>\n",
       "      <td id=\"T_a305b_row33_col7\" class=\"data row33 col7\" >FOREX</td>\n",
       "      <td id=\"T_a305b_row33_col8\" class=\"data row33 col8\" >3</td>\n",
       "      <td id=\"T_a305b_row33_col9\" class=\"data row33 col9\" >British Pound (combined)-CME</td>\n",
       "      <td id=\"T_a305b_row33_col10\" class=\"data row33 col10\" >1976</td>\n",
       "    </tr>\n",
       "    <tr>\n",
       "      <th id=\"T_a305b_level0_row34\" class=\"row_heading level0 row34\" >31</th>\n",
       "      <td id=\"T_a305b_row34_col0\" class=\"data row34 col0\" >318</td>\n",
       "      <td id=\"T_a305b_row34_col1\" class=\"data row34 col1\" >10.0</td>\n",
       "      <td id=\"T_a305b_row34_col2\" class=\"data row34 col2\" >31.8</td>\n",
       "      <td id=\"T_a305b_row34_col3\" class=\"data row34 col3\" >USD</td>\n",
       "      <td id=\"T_a305b_row34_col4\" class=\"data row34 col4\" >CC2</td>\n",
       "      <td id=\"T_a305b_row34_col5\" class=\"data row34 col5\" >ICE-US</td>\n",
       "      <td id=\"T_a305b_row34_col6\" class=\"data row34 col6\" >CC</td>\n",
       "      <td id=\"T_a305b_row34_col7\" class=\"data row34 col7\" >Food & Fiber</td>\n",
       "      <td id=\"T_a305b_row34_col8\" class=\"data row34 col8\" >4</td>\n",
       "      <td id=\"T_a305b_row34_col9\" class=\"data row34 col9\" >Cocoa (combined)</td>\n",
       "      <td id=\"T_a305b_row34_col10\" class=\"data row34 col10\" >1976</td>\n",
       "    </tr>\n",
       "    <tr>\n",
       "      <th id=\"T_a305b_level0_row35\" class=\"row_heading level0 row35\" >14</th>\n",
       "      <td id=\"T_a305b_row35_col0\" class=\"data row35 col0\" >310</td>\n",
       "      <td id=\"T_a305b_row35_col1\" class=\"data row35 col1\" >10.0</td>\n",
       "      <td id=\"T_a305b_row35_col2\" class=\"data row35 col2\" >31.0</td>\n",
       "      <td id=\"T_a305b_row35_col3\" class=\"data row35 col3\" >EUR</td>\n",
       "      <td id=\"T_a305b_row35_col4\" class=\"data row35 col4\" >EBM</td>\n",
       "      <td id=\"T_a305b_row35_col5\" class=\"data row35 col5\" >EUREX</td>\n",
       "      <td id=\"T_a305b_row35_col6\" class=\"data row35 col6\" >FGBM</td>\n",
       "      <td id=\"T_a305b_row35_col7\" class=\"data row35 col7\" >Fixed Income</td>\n",
       "      <td id=\"T_a305b_row35_col8\" class=\"data row35 col8\" >5</td>\n",
       "      <td id=\"T_a305b_row35_col9\" class=\"data row35 col9\" >Euro German Bobl-EUREX</td>\n",
       "      <td id=\"T_a305b_row35_col10\" class=\"data row35 col10\" >1991</td>\n",
       "    </tr>\n",
       "    <tr>\n",
       "      <th id=\"T_a305b_level0_row36\" class=\"row_heading level0 row36\" >36</th>\n",
       "      <td id=\"T_a305b_row36_col0\" class=\"data row36 col0\" >296</td>\n",
       "      <td id=\"T_a305b_row36_col1\" class=\"data row36 col1\" >6.2</td>\n",
       "      <td id=\"T_a305b_row36_col2\" class=\"data row36 col2\" >47.4</td>\n",
       "      <td id=\"T_a305b_row36_col3\" class=\"data row36 col3\" >USD</td>\n",
       "      <td id=\"T_a305b_row36_col4\" class=\"data row36 col4\" >EX</td>\n",
       "      <td id=\"T_a305b_row36_col5\" class=\"data row36 col5\" >CME</td>\n",
       "      <td id=\"T_a305b_row36_col6\" class=\"data row36 col6\" >E7</td>\n",
       "      <td id=\"T_a305b_row36_col7\" class=\"data row36 col7\" >FOREX</td>\n",
       "      <td id=\"T_a305b_row36_col8\" class=\"data row36 col8\" >6</td>\n",
       "      <td id=\"T_a305b_row36_col9\" class=\"data row36 col9\" >e-mini Euro-CME</td>\n",
       "      <td id=\"T_a305b_row36_col10\" class=\"data row36 col10\" >1999</td>\n",
       "    </tr>\n",
       "    <tr>\n",
       "      <th id=\"T_a305b_level0_row37\" class=\"row_heading level0 row37\" >23</th>\n",
       "      <td id=\"T_a305b_row37_col0\" class=\"data row37 col0\" >288</td>\n",
       "      <td id=\"T_a305b_row37_col1\" class=\"data row37 col1\" >5.0</td>\n",
       "      <td id=\"T_a305b_row37_col2\" class=\"data row37 col2\" >57.6</td>\n",
       "      <td id=\"T_a305b_row37_col3\" class=\"data row37 col3\" >USD</td>\n",
       "      <td id=\"T_a305b_row37_col4\" class=\"data row37 col4\" >CD</td>\n",
       "      <td id=\"T_a305b_row37_col5\" class=\"data row37 col5\" >CME</td>\n",
       "      <td id=\"T_a305b_row37_col6\" class=\"data row37 col6\" >CD</td>\n",
       "      <td id=\"T_a305b_row37_col7\" class=\"data row37 col7\" >FOREX</td>\n",
       "      <td id=\"T_a305b_row37_col8\" class=\"data row37 col8\" >4</td>\n",
       "      <td id=\"T_a305b_row37_col9\" class=\"data row37 col9\" >Canadian Dollar (combined)-CME</td>\n",
       "      <td id=\"T_a305b_row37_col10\" class=\"data row37 col10\" >1976</td>\n",
       "    </tr>\n",
       "    <tr>\n",
       "      <th id=\"T_a305b_level0_row38\" class=\"row_heading level0 row38\" >40</th>\n",
       "      <td id=\"T_a305b_row38_col0\" class=\"data row38 col0\" >266</td>\n",
       "      <td id=\"T_a305b_row38_col1\" class=\"data row38 col1\" >5.0</td>\n",
       "      <td id=\"T_a305b_row38_col2\" class=\"data row38 col2\" >53.3</td>\n",
       "      <td id=\"T_a305b_row38_col3\" class=\"data row38 col3\" >USD</td>\n",
       "      <td id=\"T_a305b_row38_col4\" class=\"data row38 col4\" >LSU</td>\n",
       "      <td id=\"T_a305b_row38_col5\" class=\"data row38 col5\" >ICE-EU-AGS</td>\n",
       "      <td id=\"T_a305b_row38_col6\" class=\"data row38 col6\" >W</td>\n",
       "      <td id=\"T_a305b_row38_col7\" class=\"data row38 col7\" >Food & Fiber</td>\n",
       "      <td id=\"T_a305b_row38_col8\" class=\"data row38 col8\" >5</td>\n",
       "      <td id=\"T_a305b_row38_col9\" class=\"data row38 col9\" >White Sugar (#5)-EURONEXT(LCE)</td>\n",
       "      <td id=\"T_a305b_row38_col10\" class=\"data row38 col10\" >1987</td>\n",
       "    </tr>\n",
       "    <tr>\n",
       "      <th id=\"T_a305b_level0_row39\" class=\"row_heading level0 row39\" >41</th>\n",
       "      <td id=\"T_a305b_row39_col0\" class=\"data row39 col0\" >230</td>\n",
       "      <td id=\"T_a305b_row39_col1\" class=\"data row39 col1\" >10.0</td>\n",
       "      <td id=\"T_a305b_row39_col2\" class=\"data row39 col2\" >23.0</td>\n",
       "      <td id=\"T_a305b_row39_col3\" class=\"data row39 col3\" >USD</td>\n",
       "      <td id=\"T_a305b_row39_col4\" class=\"data row39 col4\" >LRC</td>\n",
       "      <td id=\"T_a305b_row39_col5\" class=\"data row39 col5\" >ICE-EU-AGS</td>\n",
       "      <td id=\"T_a305b_row39_col6\" class=\"data row39 col6\" >RC</td>\n",
       "      <td id=\"T_a305b_row39_col7\" class=\"data row39 col7\" >Food & Fiber</td>\n",
       "      <td id=\"T_a305b_row39_col8\" class=\"data row39 col8\" >6</td>\n",
       "      <td id=\"T_a305b_row39_col9\" class=\"data row39 col9\" >Robusta Coffee</td>\n",
       "      <td id=\"T_a305b_row39_col10\" class=\"data row39 col10\" >1976</td>\n",
       "    </tr>\n",
       "    <tr>\n",
       "      <th id=\"T_a305b_level0_row40\" class=\"row_heading level0 row40\" >21</th>\n",
       "      <td id=\"T_a305b_row40_col0\" class=\"data row40 col0\" >230</td>\n",
       "      <td id=\"T_a305b_row40_col1\" class=\"data row40 col1\" >11.2</td>\n",
       "      <td id=\"T_a305b_row40_col2\" class=\"data row40 col2\" >20.5</td>\n",
       "      <td id=\"T_a305b_row40_col3\" class=\"data row40 col3\" >USD</td>\n",
       "      <td id=\"T_a305b_row40_col4\" class=\"data row40 col4\" >SB2</td>\n",
       "      <td id=\"T_a305b_row40_col5\" class=\"data row40 col5\" >ICE-US</td>\n",
       "      <td id=\"T_a305b_row40_col6\" class=\"data row40 col6\" >SB</td>\n",
       "      <td id=\"T_a305b_row40_col7\" class=\"data row40 col7\" >Food & Fiber</td>\n",
       "      <td id=\"T_a305b_row40_col8\" class=\"data row40 col8\" >1</td>\n",
       "      <td id=\"T_a305b_row40_col9\" class=\"data row40 col9\" >Sugar #11 (combined)</td>\n",
       "      <td id=\"T_a305b_row40_col10\" class=\"data row40 col10\" >1976</td>\n",
       "    </tr>\n",
       "    <tr>\n",
       "      <th id=\"T_a305b_level0_row41\" class=\"row_heading level0 row41\" >34</th>\n",
       "      <td id=\"T_a305b_row41_col0\" class=\"data row41 col0\" >123</td>\n",
       "      <td id=\"T_a305b_row41_col1\" class=\"data row41 col1\" >5.0</td>\n",
       "      <td id=\"T_a305b_row41_col2\" class=\"data row41 col2\" >24.6</td>\n",
       "      <td id=\"T_a305b_row41_col3\" class=\"data row41 col3\" >USD</td>\n",
       "      <td id=\"T_a305b_row41_col4\" class=\"data row41 col4\" >MP</td>\n",
       "      <td id=\"T_a305b_row41_col5\" class=\"data row41 col5\" >CME</td>\n",
       "      <td id=\"T_a305b_row41_col6\" class=\"data row41 col6\" >MP</td>\n",
       "      <td id=\"T_a305b_row41_col7\" class=\"data row41 col7\" >FOREX</td>\n",
       "      <td id=\"T_a305b_row41_col8\" class=\"data row41 col8\" >5</td>\n",
       "      <td id=\"T_a305b_row41_col9\" class=\"data row41 col9\" >Mexican Peso (combined)-CME</td>\n",
       "      <td id=\"T_a305b_row41_col10\" class=\"data row41 col10\" >1995</td>\n",
       "    </tr>\n",
       "    <tr>\n",
       "      <th id=\"T_a305b_level0_row42\" class=\"row_heading level0 row42\" >20</th>\n",
       "      <td id=\"T_a305b_row42_col0\" class=\"data row42 col0\" >52</td>\n",
       "      <td id=\"T_a305b_row42_col1\" class=\"data row42 col1\" >6.2</td>\n",
       "      <td id=\"T_a305b_row42_col2\" class=\"data row42 col2\" >8.4</td>\n",
       "      <td id=\"T_a305b_row42_col3\" class=\"data row42 col3\" >USD</td>\n",
       "      <td id=\"T_a305b_row42_col4\" class=\"data row42 col4\" >ED</td>\n",
       "      <td id=\"T_a305b_row42_col5\" class=\"data row42 col5\" >CME</td>\n",
       "      <td id=\"T_a305b_row42_col6\" class=\"data row42 col6\" >ED</td>\n",
       "      <td id=\"T_a305b_row42_col7\" class=\"data row42 col7\" >Fixed Income</td>\n",
       "      <td id=\"T_a305b_row42_col8\" class=\"data row42 col8\" >7</td>\n",
       "      <td id=\"T_a305b_row42_col9\" class=\"data row42 col9\" >Eurodollar (combined)-CME</td>\n",
       "      <td id=\"T_a305b_row42_col10\" class=\"data row42 col10\" >1981</td>\n",
       "    </tr>\n",
       "  </tbody>\n",
       "</table>\n"
      ],
      "text/plain": [
       "<pandas.io.formats.style.Styler at 0x7f8a34110eb0>"
      ]
     },
     "metadata": {},
     "output_type": "display_data"
    },
    {
     "name": "stdout",
     "output_type": "stream",
     "text": [
      "time: 17.5 ms (started: 2022-07-05 17:57:04 +08:00)\n"
     ]
    }
   ],
   "source": [
    "shortlist_sizing = (\n",
    "    shortlist\n",
    "    .assign(dollar_vol2=lambda df: df.contract.map(dollar_vol2))\n",
    "    .assign(dollar_tick=lambda df: df.contract.map(metadata.eval(\"MinTick * multiplier\")))\n",
    "    .assign(vol_ticks=lambda df: df.eval(\"dollar_vol2 / dollar_tick\"))\n",
    "    [[\"dollar_vol2\", \"dollar_tick\", \"vol_ticks\", \"currency\", \"contract\", \"exchange\", \"exch_symbol\",\n",
    "      \"category\", \"cat_rank\", \"name\", \"start_year\"]]\n",
    "    .sort_values(\"dollar_vol2\", ascending=False)\n",
    ")\n",
    "with all_rows:\n",
    "    display(\n",
    "        shortlist_sizing\n",
    "        .style\n",
    "        .format(subset=[\"dollar_vol2\"], formatter=\"{:,.0f}\")\n",
    "        .format(subset=[\"vol_ticks\", \"dollar_tick\"], formatter=\"{:,.1f}\")\n",
    "        .set_properties(subset=[\"name\"], **{'white-space': 'pre-wrap'})\n",
    "    )"
   ]
  },
  {
   "cell_type": "code",
   "execution_count": 91,
   "metadata": {},
   "outputs": [
    {
     "data": {
      "application/vnd.jupyter.widget-view+json": {
       "model_id": "21c55116c851490bb387d71642f9f363",
       "version_major": 2,
       "version_minor": 0
      },
      "text/plain": [
       "  0%|          | 0/43 [00:00<?, ?it/s]"
      ]
     },
     "metadata": {},
     "output_type": "display_data"
    },
    {
     "name": "stdout",
     "output_type": "stream",
     "text": [
      "time: 2.92 s (started: 2022-07-05 17:57:04 +08:00)\n"
     ]
    }
   ],
   "source": [
    "with PdfPages('prices.pdf') as pdf:\n",
    "    for contract in tqdm(shortlist.itertuples(), total=len(shortlist)):\n",
    "        title = (f\"{contract.Index} - {contract.contract} / \"\n",
    "                 f\"{contract.exch_symbol}({contract.exchange}) / {contract.name}\")\n",
    "        plt.figure(dpi=100)\n",
    "\n",
    "        (\n",
    "            front.loc[contract.contract]\n",
    "            .eval(\"d_close / vol\").cumsum()\n",
    "            .plot(figsize=(8, 5), title=title)\n",
    "        )\n",
    "        \n",
    "        pdf.savefig()\n",
    "        plt.close()        "
   ]
  },
  {
   "cell_type": "code",
   "execution_count": 99,
   "metadata": {},
   "outputs": [
    {
     "name": "stdout",
     "output_type": "stream",
     "text": [
      "time: 1.35 s (started: 2022-07-05 22:27:50 +08:00)\n"
     ]
    }
   ],
   "source": [
    "signals = []\n",
    "for ndays in [90, 120, 180]:\n",
    "    signals.append(\n",
    "        front\n",
    "        .eval(\"d_close / vol\")\n",
    "        .groupby(\"contract\").cumsum()\n",
    "        .pipe(lambda xs: (\n",
    "            xs.groupby(\"contract\").rolling(ndays).mean().reset_index(level=0, drop=True)\n",
    "            .lt(xs)\n",
    "        ))\n",
    "        .groupby(\"contract\").shift(fill_value=False)\n",
    "        .pipe(lambda xs: xs * 2 - 1)\n",
    "        .groupby(\"contract\").rolling(30).mean().reset_index(level=0, drop=True)\n",
    "    )\n",
    "signal = pd.concat(signals, axis=1).mean(axis=1)"
   ]
  },
  {
   "cell_type": "code",
   "execution_count": 100,
   "metadata": {},
   "outputs": [
    {
     "name": "stdout",
     "output_type": "stream",
     "text": [
      "time: 230 ms (started: 2022-07-05 22:27:52 +08:00)\n"
     ]
    }
   ],
   "source": [
    "start_year = \"1980\"\n",
    "\n",
    "rets = front.eval(\"d_close / vol * @signal\")\n",
    "pnl = rets.loc[shortlist.contract].groupby(\"date\").sum()[start_year:]\n",
    "bnh_rets = front.eval(\"d_close / vol\")"
   ]
  },
  {
   "cell_type": "code",
   "execution_count": 101,
   "metadata": {},
   "outputs": [
    {
     "name": "stdout",
     "output_type": "stream",
     "text": [
      "time: 346 µs (started: 2022-07-05 22:27:52 +08:00)\n"
     ]
    }
   ],
   "source": [
    "def plot_dd(c_pl, title):\n",
    "    xlim=(c_pl.index[0], c_pl.index[-1])\n",
    "    c_pl.plot(lw=1, color=\"black\", title=title, xlim=xlim)\n",
    "    plt.ylabel(\"Cumulative vol-normalized points\")\n",
    "    plt.fill_between(c_pl.index, c_pl, c_pl.cummax(), facecolor='red', alpha=0.5);\n",
    "    "
   ]
  },
  {
   "cell_type": "code",
   "execution_count": 102,
   "metadata": {},
   "outputs": [
    {
     "data": {
      "application/vnd.jupyter.widget-view+json": {
       "model_id": "cef6d5500b404bd3aa624110fbefafe3",
       "version_major": 2,
       "version_minor": 0
      },
      "text/plain": [
       "  0%|          | 0/43 [00:00<?, ?it/s]"
      ]
     },
     "metadata": {},
     "output_type": "display_data"
    },
    {
     "name": "stdout",
     "output_type": "stream",
     "text": [
      "time: 6.36 s (started: 2022-07-05 22:27:52 +08:00)\n"
     ]
    }
   ],
   "source": [
    "with PdfPages('returns.pdf') as pdf:\n",
    "    c_pl = pnl.cumsum()\n",
    "    plt.figure(figsize=(8, 5), dpi=100)\n",
    "    plot_dd(c_pl, title=\"Trend\")\n",
    "    \n",
    "    ax = (\n",
    "        front.loc[shortlist.contract]\n",
    "        .groupby(\"date\").expiry.count()\n",
    "        .cummax()\n",
    "        .plot(secondary_y=True)\n",
    "    )\n",
    "    ax.set_ylabel(\"Contract Count\", rotation=-90, labelpad=20)\n",
    "    ax.set_ylim(0, None)\n",
    "\n",
    "    pdf.savefig()\n",
    "    plt.close(\"all\")\n",
    "    \n",
    "    c_bnh = (\n",
    "        bnh_rets.loc[shortlist.contract]\n",
    "        .groupby(\"date\").sum()\n",
    "        [start_year:].cumsum()\n",
    "    )\n",
    "    plt.figure(figsize=(8, 5), dpi=100)\n",
    "    plot_dd(c_bnh, title=\"Buy and Hold\")\n",
    "\n",
    "    pdf.savefig()\n",
    "    plt.close(\"all\")\n",
    "    \n",
    "    for contract in tqdm(shortlist.itertuples(), total=len(shortlist)):\n",
    "        title = (f\"{contract.Index} - {contract.contract} / \"\n",
    "                 f\"{contract.exch_symbol}({contract.exchange}) / {contract.name}\")\n",
    "        \n",
    "        all_rets = pd.DataFrame({\n",
    "            \"trend\": rets.loc[contract.contract],\n",
    "            \"buy and hold\": bnh_rets.loc[contract.contract],\n",
    "        })\n",
    "        \n",
    "        plt.figure(dpi=100)\n",
    "        \n",
    "        ax = signal.loc[contract.contract].plot(secondary_y=True, color=\"grey\", alpha=0.3)\n",
    "        ax.set_ylabel(\"Signal\", rotation=-90)\n",
    "#         ax.set_ylim(-0.2, 1.3)\n",
    "        \n",
    "        ax = (\n",
    "            all_rets.loc[start_year:].cumsum()\n",
    "            .plot(\n",
    "                figsize=(8, 5), \n",
    "                title=title,\n",
    "                xlim=(pnl.index[0], pnl.index[-1]),\n",
    "                ax=ax,\n",
    "            )\n",
    "        )\n",
    "        ax.left_ax.set_ylabel(\"Cumulative vol-normalized points\")\n",
    "        ax.legend(*ax.left_ax.get_legend_handles_labels(), loc=\"upper left\")\n",
    "                \n",
    "        pdf.savefig()\n",
    "        plt.close(\"all\")"
   ]
  },
  {
   "cell_type": "code",
   "execution_count": 103,
   "metadata": {},
   "outputs": [
    {
     "name": "stdout",
     "output_type": "stream",
     "text": [
      "time: 7.15 ms (started: 2022-07-05 22:27:58 +08:00)\n"
     ]
    }
   ],
   "source": [
    "decade = (pnl.index.get_level_values(\"date\").year // 5) * 5\n",
    "by_period = {}\n",
    "legend = []\n",
    "for _, pnl0 in pnl.groupby(decade):\n",
    "    yr0 = pnl0.index.year[0]\n",
    "    pnl0.index = ((pnl0.index - pd.Timestamp(yr0, 1, 1)) / pd.Timedelta(days=1)).astype(int)\n",
    "    by_period[yr0] = pnl0\n",
    "by_period = pd.DataFrame(by_period)"
   ]
  },
  {
   "cell_type": "code",
   "execution_count": 104,
   "metadata": {},
   "outputs": [
    {
     "data": {
      "text/plain": [
       "<AxesSubplot:xlabel='date'>"
      ]
     },
     "execution_count": 104,
     "metadata": {},
     "output_type": "execute_result"
    },
    {
     "data": {
      "image/png": "[encoded data removed]",
      "text/plain": [
       "<Figure size 800x500 with 1 Axes>"
      ]
     },
     "metadata": {
      "needs_background": "light"
     },
     "output_type": "display_data"
    },
    {
     "name": "stdout",
     "output_type": "stream",
     "text": [
      "time: 126 ms (started: 2022-07-05 22:27:58 +08:00)\n"
     ]
    }
   ],
   "source": [
    "plt.figure(figsize=(8, 5), dpi=100)\n",
    "by_period.cumsum().fillna(method=\"ffill\").plot(ax=plt.gca())"
   ]
  },
  {
   "cell_type": "code",
   "execution_count": 105,
   "metadata": {},
   "outputs": [
    {
     "data": {
      "text/plain": [
       "1980    0.997034\n",
       "1985    1.516540\n",
       "1990    0.721953\n",
       "1995    1.327710\n",
       "2000    1.557531\n",
       "2005    0.662548\n",
       "2010    0.446559\n",
       "2015    0.274839\n",
       "2020    1.404356\n",
       "dtype: float64"
      ]
     },
     "execution_count": 105,
     "metadata": {},
     "output_type": "execute_result"
    },
    {
     "name": "stdout",
     "output_type": "stream",
     "text": [
      "time: 3.96 ms (started: 2022-07-05 22:27:58 +08:00)\n"
     ]
    }
   ],
   "source": [
    "by_period.apply(lambda xs: xs.mean() / xs.std() * 250**0.5)"
   ]
  }
 ],
 "metadata": {
  "interpreter": {
   "hash": "49e66dae21201708e8687d2ac28b3e7c52239c69859ef953e53704153c873260"
  },
  "kernelspec": {
   "display_name": "Python 3",
   "language": "python",
   "name": "python3"
  },
  "language_info": {
   "codemirror_mode": {
    "name": "ipython",
    "version": 3
   },
   "file_extension": ".py",
   "mimetype": "text/x-python",
   "name": "python",
   "nbconvert_exporter": "python",
   "pygments_lexer": "ipython3",
   "version": "3.8.0"
  }
 },
 "nbformat": 4,
 "nbformat_minor": 2
}
